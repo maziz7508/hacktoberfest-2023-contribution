{
 "cells": [
  {
   "cell_type": "markdown",
   "metadata": {},
   "source": [
    "# Regression Models"
   ]
  },
  {
   "cell_type": "markdown",
   "metadata": {},
   "source": [
    "## Goals\n",
    "\n",
    "In this Assignmnet :\n",
    "\n",
    " - You Will impliment the regression models"
   ]
  },
  {
   "cell_type": "markdown",
   "metadata": {},
   "source": [
    "## Tools\n",
    "In this lab we will make use of: \n",
    "- NumPy, a popular library for scientific computing\n",
    "- Matplotlib, a popular library for plotting data\n",
    "- Pandas,  a Python library for data analysis"
   ]
  },
  {
   "cell_type": "markdown",
   "metadata": {},
   "source": [
    "### Import Libraries\n",
    "\n",
    "![Libraries](https://github.com/ahmad-14a/CS-F20-ML/blob/main/Regression-Assignment%202/Libraries.png?raw=true)\n"
   ]
  },
  {
   "cell_type": "code",
   "execution_count": 1,
   "metadata": {},
   "outputs": [],
   "source": [
    "#Your code Here\n",
    "#import the necessary libraries\n",
    "import numpy as np\n",
    "import matplotlib.pyplot as plt\n",
    "%matplotlib inline\n",
    "import pandas as pd\n"
   ]
  },
  {
   "cell_type": "markdown",
   "metadata": {},
   "source": [
    "###  Fetch Data From CSV Files\n",
    "\n",
    "![Load Data](https://github.com/ahmad-14a/CS-F20-ML/blob/main/Regression-Assignment%202/Load%20N%20show.png?raw=true)"
   ]
  },
  {
   "cell_type": "code",
   "execution_count": 2,
   "metadata": {},
   "outputs": [],
   "source": [
    "#Your code Here\n",
    "#Read the trainig and testing data from the file\n",
    "trainData = pd.read_csv('trainRegression.csv')\n",
    "TrD = trainData.head()\n"
   ]
  },
  {
   "cell_type": "markdown",
   "metadata": {},
   "source": [
    "### Show Data"
   ]
  },
  {
   "cell_type": "code",
   "execution_count": 3,
   "metadata": {},
   "outputs": [
    {
     "name": "stdout",
     "output_type": "stream",
     "text": [
      "      X       R\n",
      "0  0.01 -0.2730\n",
      "1  0.02 -0.1170\n",
      "2  0.03 -0.3090\n",
      "3  0.04  0.0306\n",
      "4  0.05 -0.0802\n"
     ]
    }
   ],
   "source": [
    "#Your code Here\n",
    "#Show the first 5 rows of the training data\n",
    "print(TrD)\n"
   ]
  },
  {
   "cell_type": "markdown",
   "metadata": {},
   "source": [
    "##### Expected Output\n",
    "\n",
    "\n",
    "![Output 1](https://github.com/ahmad-14a/CS-F20-ML/blob/main/Regression-Assignment%202/O1.png?raw=true)\n"
   ]
  },
  {
   "cell_type": "markdown",
   "metadata": {},
   "source": [
    "### Type Casting of Data\n",
    "\n",
    "![TypeCasting](https://github.com/ahmad-14a/CS-F20-ML/blob/main/Regression-Assignment%202/Type%20Casting.png?raw=true)\n"
   ]
  },
  {
   "cell_type": "code",
   "execution_count": 4,
   "metadata": {},
   "outputs": [],
   "source": [
    "#Your code Here\n",
    "#TypeCast the data into numpy array\n",
    "x_train = np.array(trainData['X'])\n",
    "Y_train = np.array(trainData['R'])\n"
   ]
  },
  {
   "cell_type": "markdown",
   "metadata": {},
   "source": [
    "### Plot Data"
   ]
  },
  {
   "cell_type": "code",
   "execution_count": 5,
   "metadata": {},
   "outputs": [
    {
     "data": {
      "image/png": "[encoded data removed]",
      "text/plain": [
       "<Figure size 432x288 with 1 Axes>"
      ]
     },
     "metadata": {
      "needs_background": "light"
     },
     "output_type": "display_data"
    }
   ],
   "source": [
    "#Your code Here\n",
    "#Plot your Training Data using matplotlib\n",
    "plt.plot(x_train, Y_train)\n",
    "plt.xlabel('X')\n",
    "plt.ylabel('R')\n",
    "plt.title('Training Data')\n",
    "plt.show()\n"
   ]
  },
  {
   "cell_type": "markdown",
   "metadata": {},
   "source": [
    "##### Expected Output\n",
    "\n",
    "\n",
    "![Model Equations](https://github.com/ahmad-14a/CS-F20-ML/blob/main/Regression-Assignment%202/O2.png?raw=true)\n"
   ]
  },
  {
   "cell_type": "markdown",
   "metadata": {},
   "source": [
    " ### Fit Linear Regression Model (Training data)\n",
    "\n",
    " As our linear Model was\n",
    " \n",
    "![Cost Funtion](https://github.com/ahmad-14a/CS-F20-ML/blob/main/Regression-Assignment%202/Cost%20funtion1.png?raw=true\n",
    ")\n",
    "\n",
    "And using derivatives we transformed our model into 2 simultaneous equations\n",
    "\n",
    "![Model Equations](https://github.com/ahmad-14a/CS-F20-ML/blob/main/Regression-Assignment%202/Linear%20Model%20Eqs.png?raw=true)\n",
    "\n",
    "\n",
    "Then converted it in matrix form\n",
    "\n",
    "![Model Equations](https://github.com/ahmad-14a/CS-F20-ML/blob/main/Regression-Assignment%202/Linear%20Model.png?raw=true)\n",
    "\n",
    "\n",
    "\n",
    "NOTE :  Now you are required to compute values wihtout using foor loop on tarining data\n",
    "- HINT : Use numpy library for this purpose "
   ]
  },
  {
   "cell_type": "code",
   "execution_count": 6,
   "metadata": {
    "scrolled": true
   },
   "outputs": [
    {
     "name": "stdout",
     "output_type": "stream",
     "text": [
      "Matrix A = \n",
      "\n",
      " [[283.     444.95  ]\n",
      " [444.95   932.7465]]\n",
      "\n",
      "\n",
      "Matrix B = \n",
      "\n",
      " [[   1.39087  ]\n",
      " [-126.6414295]]\n"
     ]
    }
   ],
   "source": [
    "#Your code Here\n",
    "#For loop is not recommended in these cases, \n",
    "#use numpy functions to calculate the values of above variables in one line of code.\n",
    "#Such as x.shape for number of rows, sum() for sum of all elements in x\n",
    "#np.dot() or multiply suntion for square of x \n",
    "#TypeCast the data into numpy array\n",
    "X_train = np.array(trainData['X']).reshape(-1, 1)\n",
    "Y_train = np.array(trainData['R']).reshape(-1, 1)\n",
    "sum_Xtrain = np.sum(X_train)\n",
    "sum_Ytrain = np.sum(Y_train)\n",
    "len_Xtrain = len(X_train)\n",
    "multiplyXYTrain=np.sum(X_train * Y_train)\n",
    "\n",
    "\n",
    "\n",
    "# Compute the values of A and B matrices\n",
    "A = np.array([[len_Xtrain, sum_Xtrain], [sum_Xtrain, np.sum(X_train ** 2)]])\n",
    "\n",
    "B = np.array([[sum_Ytrain], [multiplyXYTrain]])\n",
    "\n",
    "# Compute the values of theta_0 and theta_1\n",
    "theta_1, theta_0 = np.linalg.inv(A).dot(B).flatten()\n",
    "\n",
    "print(\"Matrix A = \\n\\n\", A)\n",
    "print(\"\\n\")\n",
    "print(\"Matrix B = \\n\\n\", B)\n",
    "\n",
    "\n",
    "\n",
    "\n",
    "\n",
    "\n",
    "\n",
    "\n",
    "\n",
    "\n"
   ]
  },
  {
   "cell_type": "markdown",
   "metadata": {},
   "source": [
    "Expected output\n",
    "\n",
    "![Linear Model MAtrixes](https://github.com/ahmad-14a/CS-F20-ML/blob/main/Regression-Assignment%202/Matrixs%20Linear.png?raw=true)\n"
   ]
  },
  {
   "cell_type": "markdown",
   "metadata": {},
   "source": [
    "#### Compute Valus of Both Θ`s\n"
   ]
  },
  {
   "cell_type": "code",
   "execution_count": 7,
   "metadata": {},
   "outputs": [
    {
     "name": "stdout",
     "output_type": "stream",
     "text": [
      "Matrix X for the linear model  :\n",
      "\n",
      " [[ 0.8736061 ]\n",
      " [-0.55251074]]\n"
     ]
    }
   ],
   "source": [
    "#Your code Here\n",
    "#Calculate the values of 0_node and 0_1 using Matrix Multiplication\n",
    "#Hint: Use X = A^-1 * B to calculate the values of 0_node and 0_1\n",
    "\n",
    "theta = np.array([[theta_1],[theta_0]])\n",
    "print(\"Matrix X for the linear model  :\\n\\n\", theta)\n"
   ]
  },
  {
   "cell_type": "markdown",
   "metadata": {},
   "source": [
    "Expected Output\n",
    "\n",
    "![Linear Model MAtrixes](https://github.com/ahmad-14a/CS-F20-ML/blob/main/Regression-Assignment%202/Matrixs%20LinearT.png?raw=true)\n"
   ]
  },
  {
   "cell_type": "markdown",
   "metadata": {},
   "source": [
    "### Run Predictions (Testing data)"
   ]
  },
  {
   "cell_type": "code",
   "execution_count": 8,
   "metadata": {},
   "outputs": [
    {
     "name": "stdout",
     "output_type": "stream",
     "text": [
      "Predicted test data \n",
      " [[ 0.8736061 ]\n",
      " [ 0.81835502]\n",
      " [ 0.76310395]\n",
      " [ 0.70785287]\n",
      " [ 0.6526018 ]\n",
      " [ 0.59735072]\n",
      " [ 0.54209965]\n",
      " [ 0.48684858]\n",
      " [ 0.4315975 ]\n",
      " [ 0.37634643]\n",
      " [ 0.32109535]\n",
      " [ 0.26584428]\n",
      " [ 0.2105932 ]\n",
      " [ 0.15534213]\n",
      " [ 0.10009106]\n",
      " [ 0.04483998]\n",
      " [-0.01041109]\n",
      " [-0.06566217]\n",
      " [-0.12091324]\n",
      " [-0.17616432]\n",
      " [-0.23141539]\n",
      " [-0.28666646]\n",
      " [-0.34191754]\n",
      " [-0.39716861]\n",
      " [-0.45241969]\n",
      " [-0.50767076]\n",
      " [-0.56292184]\n",
      " [-0.61817291]\n",
      " [-0.67342398]\n",
      " [-0.72867506]\n",
      " [-0.78392613]\n",
      " [-0.83917721]]\n",
      "Predicted train data \n",
      " [[1.02444153]\n",
      " [0.93824985]\n",
      " [1.04433192]\n",
      " [0.85669927]\n",
      " [0.91791746]\n",
      " [0.73934599]\n",
      " [0.87008108]\n",
      " [0.71669305]\n",
      " [0.92355307]\n",
      " [0.85730703]\n",
      " [0.66862461]\n",
      " [0.59790324]\n",
      " [0.7813368 ]\n",
      " [0.53049692]\n",
      " [0.70564283]\n",
      " [0.66751959]\n",
      " [0.70232777]\n",
      " [0.72111313]\n",
      " [0.57525029]\n",
      " [0.65094427]\n",
      " [0.9149339 ]\n",
      " [0.36916379]\n",
      " [0.70288028]\n",
      " [0.37468889]\n",
      " [0.46530066]\n",
      " [0.8635504 ]\n",
      " [0.55867497]\n",
      " [0.4520404 ]\n",
      " [0.46474815]\n",
      " [0.45756551]\n",
      " [0.48021845]\n",
      " [0.45867053]\n",
      " [0.31004514]\n",
      " [0.42993997]\n",
      " [0.4984513 ]\n",
      " [0.46972074]\n",
      " [0.45977555]\n",
      " [0.53546952]\n",
      " [0.55591242]\n",
      " [0.4006569 ]\n",
      " [0.32109535]\n",
      " [0.27689449]\n",
      " [0.31557025]\n",
      " [0.4879536 ]\n",
      " [0.31004514]\n",
      " [0.40341945]\n",
      " [0.53325948]\n",
      " [0.23269363]\n",
      " [0.32385791]\n",
      " [0.26584428]\n",
      " [0.37855647]\n",
      " [0.32606795]\n",
      " [0.47524585]\n",
      " [0.49624126]\n",
      " [0.14429192]\n",
      " [0.29899492]\n",
      " [0.37358387]\n",
      " [0.39126422]\n",
      " [0.45038287]\n",
      " [0.18849277]\n",
      " [0.22164342]\n",
      " [0.27689449]\n",
      " [0.27689449]\n",
      " [0.19954299]\n",
      " [0.16086724]\n",
      " [0.43215001]\n",
      " [0.39181673]\n",
      " [0.18849277]\n",
      " [0.19954299]\n",
      " [0.19954299]\n",
      " [0.30452003]\n",
      " [0.29346982]\n",
      " [0.32938301]\n",
      " [0.17744256]\n",
      " [0.29346982]\n",
      " [0.30452003]\n",
      " [0.28794471]\n",
      " [0.51944671]\n",
      " [0.11114127]\n",
      " [0.4006569 ]\n",
      " [0.11114127]\n",
      " [0.2824196 ]\n",
      " [0.41004958]\n",
      " [0.18296767]\n",
      " [0.35203595]\n",
      " [0.36695374]\n",
      " [0.31004514]\n",
      " [0.25479406]\n",
      " [0.49734628]\n",
      " [0.53878459]\n",
      " [0.36861128]\n",
      " [0.60011328]\n",
      " [0.31004514]\n",
      " [0.48629607]\n",
      " [0.37303136]\n",
      " [0.30452003]\n",
      " [0.33711816]\n",
      " [0.52055173]\n",
      " [0.45922304]\n",
      " [0.33435561]\n",
      " [0.41336465]\n",
      " [0.31557025]\n",
      " [0.39236924]\n",
      " [0.44541027]\n",
      " [0.59182562]\n",
      " [0.48905862]\n",
      " [0.4470678 ]\n",
      " [0.42275733]\n",
      " [0.56917268]\n",
      " [0.44430525]\n",
      " [0.43325503]\n",
      " [0.5807754 ]\n",
      " [0.67414972]\n",
      " [0.60453336]\n",
      " [0.59458817]\n",
      " [0.55812246]\n",
      " [1.00123608]\n",
      " [0.85526274]\n",
      " [0.76697152]\n",
      " [0.85498648]\n",
      " [0.77967927]\n",
      " [0.84990339]\n",
      " [0.66917712]\n",
      " [0.56585761]\n",
      " [0.83470934]\n",
      " [0.8224436 ]\n",
      " [0.69348759]\n",
      " [0.91344212]\n",
      " [0.80343723]\n",
      " [0.90062387]\n",
      " [0.85868831]\n",
      " [0.79349204]\n",
      " [0.76365646]\n",
      " [0.99957855]\n",
      " [0.9818982 ]\n",
      " [0.96919045]\n",
      " [0.83437783]\n",
      " [0.97471556]\n",
      " [1.01615387]\n",
      " [1.19571986]\n",
      " [0.98631829]\n",
      " [0.90576222]\n",
      " [0.86797049]\n",
      " [0.89852433]\n",
      " [1.08853278]\n",
      " [0.86432392]\n",
      " [1.31174712]\n",
      " [0.90034762]\n",
      " [1.02941413]\n",
      " [1.16312173]\n",
      " [1.0073137 ]\n",
      " [1.16643679]\n",
      " [0.95703522]\n",
      " [0.92134302]\n",
      " [1.1360487 ]\n",
      " [1.22610795]\n",
      " [1.23494812]\n",
      " [1.26588872]\n",
      " [1.23108055]\n",
      " [1.4139616 ]\n",
      " [1.13439117]\n",
      " [1.12278844]\n",
      " [1.30180192]\n",
      " [1.21450522]\n",
      " [1.29240924]\n",
      " [1.2697563 ]\n",
      " [1.17969705]\n",
      " [1.18411713]\n",
      " [1.4034639 ]\n",
      " [1.16312173]\n",
      " [1.34489776]\n",
      " [1.58081985]\n",
      " [1.45374238]\n",
      " [1.30401197]\n",
      " [1.39186117]\n",
      " [1.52556877]\n",
      " [1.21561025]\n",
      " [1.15372904]\n",
      " [1.35815802]\n",
      " [1.3056695 ]\n",
      " [1.41340909]\n",
      " [1.44269216]\n",
      " [1.30014439]\n",
      " [1.38467853]\n",
      " [1.42280177]\n",
      " [1.42501182]\n",
      " [1.37307581]\n",
      " [1.27086132]\n",
      " [1.34324023]\n",
      " [1.27251885]\n",
      " [1.38191598]\n",
      " [1.45926748]\n",
      " [1.48689302]\n",
      " [1.36313061]\n",
      " [1.31229963]\n",
      " [1.37197079]\n",
      " [1.35815802]\n",
      " [1.50899345]\n",
      " [1.67474667]\n",
      " [1.24213076]\n",
      " [1.53661899]\n",
      " [1.3879936 ]\n",
      " [1.29075171]\n",
      " [1.41838169]\n",
      " [1.59739517]\n",
      " [1.62502071]\n",
      " [1.28191154]\n",
      " [1.38965113]\n",
      " [1.31727222]\n",
      " [1.27307136]\n",
      " [1.37970594]\n",
      " [1.35760551]\n",
      " [1.40567394]\n",
      " [1.39020364]\n",
      " [1.45374238]\n",
      " [1.45926748]\n",
      " [1.44269216]\n",
      " [1.38081096]\n",
      " [1.32555988]\n",
      " [1.38081096]\n",
      " [1.280254  ]\n",
      " [1.40125386]\n",
      " [1.22831799]\n",
      " [1.47584281]\n",
      " [1.34489776]\n",
      " [1.43716705]\n",
      " [1.44821727]\n",
      " [1.28246405]\n",
      " [1.36313061]\n",
      " [1.40733147]\n",
      " [1.30345945]\n",
      " [1.31174712]\n",
      " [1.34268772]\n",
      " [1.42611684]\n",
      " [1.25925859]\n",
      " [1.1979299 ]\n",
      " [1.11284325]\n",
      " [1.38909862]\n",
      " [1.21395271]\n",
      " [1.36976074]\n",
      " [1.25760106]\n",
      " [1.20511254]\n",
      " [1.3625781 ]\n",
      " [1.16312173]\n",
      " [1.16975185]\n",
      " [1.0691949 ]\n",
      " [1.36589317]\n",
      " [1.08742775]\n",
      " [1.08687524]\n",
      " [0.96863794]\n",
      " [1.12389346]\n",
      " [1.08908529]\n",
      " [1.19074726]\n",
      " [1.02554655]\n",
      " [1.2288705 ]\n",
      " [1.15096649]\n",
      " [1.03659677]\n",
      " [0.96366535]\n",
      " [0.94377496]\n",
      " [0.98742331]\n",
      " [0.7863094 ]\n",
      " [1.0642223 ]\n",
      " [0.81780251]\n",
      " [0.89366224]\n",
      " [0.7299533 ]\n",
      " [0.86360565]\n",
      " [0.91465764]\n",
      " [0.85984858]\n",
      " [0.66530955]\n",
      " [0.88123074]\n",
      " [1.0642223 ]\n",
      " [0.9614553 ]\n",
      " [0.98963335]\n",
      " [0.91112158]\n",
      " [0.85785954]\n",
      " [0.88123074]\n",
      " [0.97526807]\n",
      " [0.82167009]\n",
      " [0.67691227]\n",
      " [0.8700203 ]\n",
      " [0.72111313]\n",
      " [0.75757884]\n",
      " [0.69569764]]\n"
     ]
    }
   ],
   "source": [
    "def fit_regression(X, Y):\n",
    "    # add a column of ones to X for the intercept term\n",
    "    X = np.column_stack((np.ones(len(X)), X))\n",
    "\n",
    "    # calculate the regression coefficients using the normal equation\n",
    "    theta = np.linalg.inv(X.T.dot(X)).dot(X.T).dot(Y)\n",
    "\n",
    "    return theta\n",
    "trainData = pd.read_csv('trainRegression.csv')\n",
    "testData = pd.read_csv('testRegression.csv')\n",
    "\n",
    "# extract x_train and Y_train from the training data\n",
    "X_train = np.array(trainData['X'])\n",
    "Y_train = np.array(trainData['R'])\n",
    "\n",
    "# extract the test data\n",
    "test_x = np.array(testData['X'])\n",
    "\n",
    "# extract the train data\n",
    "test_y = np.array(trainData['R'])\n",
    "\n",
    "# fit the model to the training data\n",
    "theta = fit_regression(X_train, Y_train)\n",
    "\n",
    "# convert test_x into a 2-dimensional matrix and calculate predicted values of Y\n",
    "test_x_matrix = np.column_stack((np.ones(len(test_x)), test_x))\n",
    "test_y_matrix = np.column_stack((np.ones(len(test_y)), test_y))\n",
    "predicted_Y = np.matmul(test_x_matrix, theta.reshape(-1, 1))\n",
    "predicted_X = np.matmul(test_y_matrix, theta.reshape(-1, 1))\n",
    "\n",
    "# print the predicted values of Y\n",
    "print(\"Predicted test data \\n\", predicted_Y)\n",
    "print(\"Predicted train data \\n\", predicted_X)"
   ]
  },
  {
   "cell_type": "markdown",
   "metadata": {},
   "source": [
    "### Mean Square Error"
   ]
  },
  {
   "cell_type": "markdown",
   "metadata": {},
   "source": [
    "![Cost Funtion](https://github.com/ahmad-14a/CS-F20-ML/blob/main/Regression-Assignment%202/Cost%20funtion1.png?raw=true\n",
    ")"
   ]
  },
  {
   "cell_type": "code",
   "execution_count": 9,
   "metadata": {},
   "outputs": [
    {
     "ename": "NameError",
     "evalue": "name 'testdata' is not defined",
     "output_type": "error",
     "traceback": [
      "\u001b[1;31m---------------------------------------------------------------------------\u001b[0m",
      "\u001b[1;31mNameError\u001b[0m                                 Traceback (most recent call last)",
      "\u001b[1;32m<ipython-input-9-1aa09b6bcabf>\u001b[0m in \u001b[0;36m<module>\u001b[1;34m\u001b[0m\n\u001b[0;32m      3\u001b[0m \u001b[1;33m\u001b[0m\u001b[0m\n\u001b[0;32m      4\u001b[0m \u001b[1;31m# Convert test_x to a 2-dimensional numpy array\u001b[0m\u001b[1;33m\u001b[0m\u001b[1;33m\u001b[0m\u001b[1;33m\u001b[0m\u001b[0m\n\u001b[1;32m----> 5\u001b[1;33m \u001b[0mX_test_2d\u001b[0m \u001b[1;33m=\u001b[0m \u001b[0mnp\u001b[0m\u001b[1;33m.\u001b[0m\u001b[0marray\u001b[0m\u001b[1;33m(\u001b[0m\u001b[0mtestdata\u001b[0m\u001b[1;33m[\u001b[0m\u001b[1;34m'X'\u001b[0m\u001b[1;33m]\u001b[0m\u001b[1;33m)\u001b[0m\u001b[1;33m.\u001b[0m\u001b[0mreshape\u001b[0m\u001b[1;33m(\u001b[0m\u001b[1;33m-\u001b[0m\u001b[1;36m1\u001b[0m\u001b[1;33m,\u001b[0m \u001b[1;36m1\u001b[0m\u001b[1;33m)\u001b[0m\u001b[1;33m\u001b[0m\u001b[1;33m\u001b[0m\u001b[0m\n\u001b[0m\u001b[0;32m      6\u001b[0m \u001b[1;33m\u001b[0m\u001b[0m\n\u001b[0;32m      7\u001b[0m \u001b[1;31m# Add a column of ones to X_test_2d for the intercept term\u001b[0m\u001b[1;33m\u001b[0m\u001b[1;33m\u001b[0m\u001b[1;33m\u001b[0m\u001b[0m\n",
      "\u001b[1;31mNameError\u001b[0m: name 'testdata' is not defined"
     ]
    }
   ],
   "source": [
    "#Your code Here\n",
    "#Using cost function calculate the cost of the model\n",
    "\n",
    "# Convert test_x to a 2-dimensional numpy array\n",
    "X_test_2d = np.array(testdata['X']).reshape(-1, 1)\n",
    "\n",
    "# Add a column of ones to X_test_2d for the intercept term\n",
    "X_test = np.c_[np.ones(X_test_2d.shape[0]), X_test_2d]\n",
    "\n",
    "# Calculate the predicted values of y using matrix multiplication\n",
    "predicted_y = np.dot(X_test, theta)  \n",
    "\n",
    "# Calculate the Mean Squared Error\n",
    "MSE = np.mean((testdata['R'] - predicted_y)**2)\n",
    "\n",
    "print(\"Mean Squared Error for LINEAR MODEL is :: \", MSE)"
   ]
  },
  {
   "cell_type": "markdown",
   "metadata": {},
   "source": [
    "Expected Output\n",
    "\n",
    "![MSE of Linear](https://github.com/ahmad-14a/CS-F20-ML/blob/main/Regression-Assignment%202/MSE%20Linear.png?raw=true\n",
    ")"
   ]
  },
  {
   "cell_type": "markdown",
   "metadata": {},
   "source": [
    "### Plot Data (Train and Test Data)"
   ]
  },
  {
   "cell_type": "code",
   "execution_count": 10,
   "metadata": {},
   "outputs": [
    {
     "ename": "NameError",
     "evalue": "name 'X_test' is not defined",
     "output_type": "error",
     "traceback": [
      "\u001b[1;31m---------------------------------------------------------------------------\u001b[0m",
      "\u001b[1;31mNameError\u001b[0m                                 Traceback (most recent call last)",
      "\u001b[1;32m<ipython-input-10-b81b63d88ca1>\u001b[0m in \u001b[0;36m<module>\u001b[1;34m\u001b[0m\n\u001b[0;32m      8\u001b[0m \u001b[1;33m\u001b[0m\u001b[0m\n\u001b[0;32m      9\u001b[0m \u001b[1;31m# plot the predicted values of y against the test_x\u001b[0m\u001b[1;33m\u001b[0m\u001b[1;33m\u001b[0m\u001b[1;33m\u001b[0m\u001b[0m\n\u001b[1;32m---> 10\u001b[1;33m \u001b[0mplt\u001b[0m\u001b[1;33m.\u001b[0m\u001b[0mplot\u001b[0m\u001b[1;33m(\u001b[0m\u001b[0mX_test\u001b[0m\u001b[1;33m,\u001b[0m \u001b[0mY_pred\u001b[0m\u001b[1;33m,\u001b[0m \u001b[0mcolor\u001b[0m\u001b[1;33m=\u001b[0m\u001b[1;34m'green'\u001b[0m\u001b[1;33m,\u001b[0m \u001b[0mlabel\u001b[0m\u001b[1;33m=\u001b[0m\u001b[1;34m'Predicted Values'\u001b[0m\u001b[1;33m)\u001b[0m\u001b[1;33m\u001b[0m\u001b[1;33m\u001b[0m\u001b[0m\n\u001b[0m\u001b[0;32m     11\u001b[0m \u001b[1;33m\u001b[0m\u001b[0m\n\u001b[0;32m     12\u001b[0m \u001b[1;31m# set the labels and title of the plot\u001b[0m\u001b[1;33m\u001b[0m\u001b[1;33m\u001b[0m\u001b[1;33m\u001b[0m\u001b[0m\n",
      "\u001b[1;31mNameError\u001b[0m: name 'X_test' is not defined"
     ]
    },
    {
     "data": {
      "image/png": "[encoded data removed]",
      "text/plain": [
       "<Figure size 432x288 with 1 Axes>"
      ]
     },
     "metadata": {
      "needs_background": "light"
     },
     "output_type": "display_data"
    }
   ],
   "source": [
    "#Your code Here\n",
    "#Plot the predicted values of y against the test_x\n",
    "\n",
    "# plot the training data\n",
    "plt.scatter(X_train, Y_train, color='blue', label='Training Data')\n",
    "\n",
    "\n",
    "\n",
    "# plot the predicted values of y against the test_x\n",
    "plt.plot(X_test, Y_pred, color='green', label='Predicted Values')\n",
    "\n",
    "# set the labels and title of the plot\n",
    "plt.xlabel('X')\n",
    "plt.ylabel('Y')\n",
    "plt.title('Linear Model for the train data')\n",
    "plt.legend()\n",
    "\n",
    "# display the plot\n",
    "plt.show()\n",
    "\n",
    "\n",
    "\n",
    "#Calculate the predicted values of Y for the test data\n",
    "Y_pred_test = theta_0 + theta_1 * X_test\n",
    "\n",
    "\n",
    "#plot the test data\n",
    "plt.scatter(X_test, Y_test, color='blue', label='Test Data')\n",
    "\n",
    "#plot the predicted values of y against the test_x\n",
    "plt.plot(X_test, Y_pred_test, color='green', label='Predicted Values')\n",
    "\n",
    "#set the labels and title of the plot\n",
    "plt.xlabel('X')\n",
    "plt.ylabel('Y')\n",
    "plt.title('Linear Model for the test data')\n",
    "plt.legend()\n",
    "\n",
    "#display the plot\n",
    "plt.show()"
   ]
  },
  {
   "cell_type": "markdown",
   "metadata": {},
   "source": [
    "### Expected Outputs for Linear Model\n",
    "\n",
    "![Training Data Plot](https://github.com/ahmad-14a/CS-F20-ML/blob/main/Regression-Assignment%202/Linear%20O.png?raw=true)\n",
    "\n",
    "![Test Data Plot](https://github.com/ahmad-14a/CS-F20-ML/blob/main/Regression-Assignment%202/Linear%20O%20test.png?raw=true)\n"
   ]
  },
  {
   "cell_type": "markdown",
   "metadata": {},
   "source": [
    "## Now Fit The Quadratic Model\n",
    "\n",
    " As our Quadratic Model was\n",
    " \n",
    "![Cost Funtion for quadratic ](https://github.com/ahmad-14a/CS-F20-ML/blob/main/Regression-Assignment%202/Cost%20funtion2.png?raw=true\n",
    ")\n",
    "\n",
    "And using derivatives we transformed our model into 3 simultaneous equations\n",
    "\n",
    "![Model Equations of quadratic](https://github.com/ahmad-14a/CS-F20-ML/blob/main/Regression-Assignment%202/Quad%20Model%20Eqs.png?raw=true)\n",
    "\n",
    "\n",
    "Then converted it in matrix form\n",
    "\n",
    "![Model Formula of Quadratic](https://github.com/ahmad-14a/CS-F20-ML/blob/main/Regression-Assignment%202/Quad%20Model1.png?raw=true)\n",
    "\n",
    "\n",
    "\n",
    "NOTE :  Now you are required to compute values wihtout using foor loop on tarining data\n",
    "- HINT : Use numpy library for this purpose "
   ]
  },
  {
   "cell_type": "code",
   "execution_count": 11,
   "metadata": {},
   "outputs": [
    {
     "name": "stdout",
     "output_type": "stream",
     "text": [
      "\n",
      "\n",
      "Matrix A = \n",
      "\n",
      " [[ 283.          444.95        932.7465    ]\n",
      " [ 444.95        932.7465     2199.781025  ]\n",
      " [ 932.7465     2199.781025   5533.85257677]]\n",
      "\n",
      "\n",
      "Matrix B = \n",
      "\n",
      " [[   1.39087   ]\n",
      " [-126.6414295 ]\n",
      " [-378.87568955]]\n"
     ]
    }
   ],
   "source": [
    "#Your code Here\n",
    "#For loop is not recommended in these cases, \n",
    "#use numpy functions to calculate the values of above variables in one line of code.\n",
    "#Such as x.shape for number of rows, sum() for sum of all elements in x\n",
    "#np.dot() or multiply suntion for square of x \n",
    "\n",
    "A = np.array([[len(X_train), sum_Xtrain, np.sum(X_train ** 2)], \n",
    "              [sum_Xtrain, np.sum(X_train ** 2), np.sum(X_train ** 3)], \n",
    "              [np.sum(X_train ** 2), np.sum(X_train ** 3), np.sum(X_train ** 4)]])\n",
    "B = np.array([[sum_Ytrain], [multiplyXYTrain], [np.sum(np.square(X_train)*Y_train)]])\n",
    "\n",
    "#Compute the values of theta_0, theta_1 and theta_2\n",
    "theta_2, theta_1, theta_0 = np.linalg.inv(A).dot(B).flatten()\n",
    "\n",
    "\n",
    "print(\"\\n\")\n",
    "print(\"Matrix A = \\n\\n\", A)\n",
    "print(\"\\n\")\n",
    "print(\"Matrix B = \\n\\n\", B)\n",
    "\n",
    "\n",
    "\n"
   ]
  },
  {
   "cell_type": "markdown",
   "metadata": {},
   "source": [
    "Expected Output"
   ]
  },
  {
   "cell_type": "markdown",
   "metadata": {},
   "source": [
    "![Quadratic Model Matrixes](https://github.com/ahmad-14a/CS-F20-ML/blob/main/Regression-Assignment%202/Matrixs%20Quad1.png?raw=true)"
   ]
  },
  {
   "cell_type": "markdown",
   "metadata": {},
   "source": [
    "#### Compute Valus Of Three Θ`s\n"
   ]
  },
  {
   "cell_type": "code",
   "execution_count": 12,
   "metadata": {},
   "outputs": [
    {
     "name": "stdout",
     "output_type": "stream",
     "text": [
      "Matrix X for the quaderatic model : \n",
      " [[ 1.10611454]\n",
      " [-0.99606599]\n",
      " [ 0.14104585]]\n"
     ]
    }
   ],
   "source": [
    "#Your code Here\n",
    "#Calculate the values of 0_node and 0_1 using Matrix Multiplication\n",
    "#Hint: Use X = A^-1 * B to calculate the values of 0_node , 0_1 and 0_2\n",
    "#print the coefficients of the quadratic model\n",
    "theta = np.array([[theta_2], [theta_1], [theta_0]] )\n",
    "print(\"Matrix X for the quaderatic model : \\n\", theta)\n",
    "\n"
   ]
  },
  {
   "cell_type": "markdown",
   "metadata": {},
   "source": [
    "Expected Output\n",
    "\n",
    "![Quadratic Model MAtrixes](https://github.com/ahmad-14a/CS-F20-ML/blob/main/Regression-Assignment%202/Matrixs%20Quad.png?raw=true)\n"
   ]
  },
  {
   "cell_type": "markdown",
   "metadata": {},
   "source": [
    "### Run Predictions (Testing data)"
   ]
  },
  {
   "cell_type": "code",
   "execution_count": 13,
   "metadata": {},
   "outputs": [
    {
     "name": "stdout",
     "output_type": "stream",
     "text": [
      "Predicted values of y:\n",
      "[[ 0.14104585]\n",
      " [ 0.05250039]\n",
      " [-0.01392277]\n",
      " [-0.05822364]\n",
      " [-0.08040223]\n",
      " [-0.08045852]\n",
      " [-0.05839252]\n",
      " [-0.01420422]\n",
      " [ 0.05210636]\n",
      " [ 0.14053923]\n",
      " [ 0.25109439]\n",
      " [ 0.38377185]\n",
      " [ 0.53857159]\n",
      " [ 0.71549363]\n",
      " [ 0.91453795]\n",
      " [ 1.13570457]\n",
      " [ 1.37899348]\n",
      " [ 1.64440468]\n",
      " [ 1.93193817]\n",
      " [ 2.24159395]\n",
      " [ 2.57337202]\n",
      " [ 2.92727238]\n",
      " [ 3.30329503]\n",
      " [ 3.70143998]\n",
      " [ 4.12170721]\n",
      " [ 4.56409674]\n",
      " [ 5.02860855]\n",
      " [ 5.51524266]\n",
      " [ 6.02399906]\n",
      " [ 6.55487775]\n",
      " [ 7.10787872]\n",
      " [ 7.68300199]]\n"
     ]
    }
   ],
   "source": [
    "# Your code Here\n",
    "# In order to calculate the pridicted values of y\n",
    "# Use the formula y = 0_node + 0_1 * x\n",
    "# _____DO NOT USE FOR LOOP_____\n",
    "# instead Convert the column of test_x into numpy a 2 dimensional matrix\n",
    "# then use matrix multiplication to calculate the predicted values of y\n",
    "# Convert test_x into a numpy 2-dimensional matrix\n",
    "test_X = np.array(test_x).reshape(-1, 1)\n",
    "\n",
    "# Calculate the predicted values of y using matrix multiplication\n",
    "y_pred = theta_0 + (theta_1 * test_X) + (theta_2 * np.square(test_X))\n",
    "\n",
    "# Print the predicted values of y\n",
    "print(\"Predicted values of y:\")\n",
    "print(y_pred)\n",
    "\n"
   ]
  },
  {
   "cell_type": "markdown",
   "metadata": {},
   "source": [
    "### Mean Square Error"
   ]
  },
  {
   "cell_type": "markdown",
   "metadata": {},
   "source": [
    "![Cost Funtion](https://github.com/ahmad-14a/CS-F20-ML/blob/main/Regression-Assignment%202/Cost%20funtion2.png?raw=true\n",
    ")"
   ]
  },
  {
   "cell_type": "code",
   "execution_count": 14,
   "metadata": {},
   "outputs": [
    {
     "ename": "NameError",
     "evalue": "name 'X_test' is not defined",
     "output_type": "error",
     "traceback": [
      "\u001b[1;31m---------------------------------------------------------------------------\u001b[0m",
      "\u001b[1;31mNameError\u001b[0m                                 Traceback (most recent call last)",
      "\u001b[1;32m<ipython-input-14-4dd3b7be69d2>\u001b[0m in \u001b[0;36m<module>\u001b[1;34m\u001b[0m\n\u001b[0;32m      1\u001b[0m \u001b[1;31m# Calculate the predicted values of Y for the test data\u001b[0m\u001b[1;33m\u001b[0m\u001b[1;33m\u001b[0m\u001b[1;33m\u001b[0m\u001b[0m\n\u001b[1;32m----> 2\u001b[1;33m \u001b[0mY_pred\u001b[0m \u001b[1;33m=\u001b[0m \u001b[0mtheta_0\u001b[0m \u001b[1;33m+\u001b[0m \u001b[0mtheta_1\u001b[0m \u001b[1;33m*\u001b[0m \u001b[0mX_test\u001b[0m \u001b[1;33m+\u001b[0m \u001b[0mtheta_2\u001b[0m \u001b[1;33m*\u001b[0m \u001b[1;33m(\u001b[0m\u001b[0mnp\u001b[0m\u001b[1;33m.\u001b[0m\u001b[0msquare\u001b[0m\u001b[1;33m(\u001b[0m\u001b[0mX_test\u001b[0m\u001b[1;33m)\u001b[0m\u001b[1;33m)\u001b[0m\u001b[1;33m\u001b[0m\u001b[1;33m\u001b[0m\u001b[0m\n\u001b[0m\u001b[0;32m      3\u001b[0m \u001b[1;31m# Calculate the MSE cost of the model on the test data\u001b[0m\u001b[1;33m\u001b[0m\u001b[1;33m\u001b[0m\u001b[1;33m\u001b[0m\u001b[0m\n\u001b[0;32m      4\u001b[0m \u001b[0mcost\u001b[0m \u001b[1;33m=\u001b[0m \u001b[0mnp\u001b[0m\u001b[1;33m.\u001b[0m\u001b[0mmean\u001b[0m\u001b[1;33m(\u001b[0m\u001b[0mnp\u001b[0m\u001b[1;33m.\u001b[0m\u001b[0msquare\u001b[0m\u001b[1;33m(\u001b[0m\u001b[0mY_pred\u001b[0m \u001b[1;33m-\u001b[0m \u001b[0mY_test\u001b[0m\u001b[1;33m)\u001b[0m\u001b[1;33m)\u001b[0m\u001b[1;33m\u001b[0m\u001b[1;33m\u001b[0m\u001b[0m\n\u001b[0;32m      5\u001b[0m \u001b[1;33m\u001b[0m\u001b[0m\n",
      "\u001b[1;31mNameError\u001b[0m: name 'X_test' is not defined"
     ]
    }
   ],
   "source": [
    "# Calculate the predicted values of Y for the test data\n",
    "Y_pred = theta_0 + theta_1 * X_test + theta_2 * (np.square(X_test))\n",
    "# Calculate the MSE cost of the model on the test data\n",
    "cost = np.mean(np.square(Y_pred - Y_test))\n",
    "\n",
    "print(\"Mean Square Error for QUADRATIC MODEL is:\", cost)"
   ]
  },
  {
   "cell_type": "markdown",
   "metadata": {},
   "source": [
    "Expected Output\n",
    "\n",
    "![MSE of Quadratic](https://github.com/ahmad-14a/CS-F20-ML/blob/main/Regression-Assignment%202/MSE%20Quad.png?raw=true\n",
    ")"
   ]
  },
  {
   "cell_type": "markdown",
   "metadata": {},
   "source": [
    "### Plot Data (Train and Test Data)"
   ]
  },
  {
   "cell_type": "code",
   "execution_count": 15,
   "metadata": {},
   "outputs": [
    {
     "data": {
      "image/png": "[encoded data removed]",
      "text/plain": [
       "<Figure size 432x288 with 1 Axes>"
      ]
     },
     "metadata": {
      "needs_background": "light"
     },
     "output_type": "display_data"
    },
    {
     "ename": "NameError",
     "evalue": "name 'X_test' is not defined",
     "output_type": "error",
     "traceback": [
      "\u001b[1;31m---------------------------------------------------------------------------\u001b[0m",
      "\u001b[1;31mNameError\u001b[0m                                 Traceback (most recent call last)",
      "\u001b[1;32m<ipython-input-15-36b9661957aa>\u001b[0m in \u001b[0;36m<module>\u001b[1;34m\u001b[0m\n\u001b[0;32m     23\u001b[0m \u001b[1;33m\u001b[0m\u001b[0m\n\u001b[0;32m     24\u001b[0m \u001b[1;31m# Calculate the predicted values of Y for the test data\u001b[0m\u001b[1;33m\u001b[0m\u001b[1;33m\u001b[0m\u001b[1;33m\u001b[0m\u001b[0m\n\u001b[1;32m---> 25\u001b[1;33m \u001b[0mY_pred_test\u001b[0m \u001b[1;33m=\u001b[0m \u001b[0mtheta_0\u001b[0m \u001b[1;33m+\u001b[0m \u001b[0mtheta_1\u001b[0m \u001b[1;33m*\u001b[0m \u001b[0mX_test\u001b[0m \u001b[1;33m+\u001b[0m \u001b[0mtheta_2\u001b[0m \u001b[1;33m*\u001b[0m \u001b[0mnp\u001b[0m\u001b[1;33m.\u001b[0m\u001b[0msquare\u001b[0m\u001b[1;33m(\u001b[0m\u001b[0mX_test\u001b[0m\u001b[1;33m)\u001b[0m\u001b[1;33m\u001b[0m\u001b[1;33m\u001b[0m\u001b[0m\n\u001b[0m\u001b[0;32m     26\u001b[0m \u001b[1;33m\u001b[0m\u001b[0m\n\u001b[0;32m     27\u001b[0m \u001b[1;31m# Sort the test data by X values for plotting purposes\u001b[0m\u001b[1;33m\u001b[0m\u001b[1;33m\u001b[0m\u001b[1;33m\u001b[0m\u001b[0m\n",
      "\u001b[1;31mNameError\u001b[0m: name 'X_test' is not defined"
     ]
    }
   ],
   "source": [
    "# Plot the training data\n",
    "plt.scatter(X_train, Y_train, color='blue', label='Training Data')\n",
    "\n",
    "# Calculate the predicted values of Y for the training data\n",
    "Y_pred_train = theta_0 + theta_1 * X_train + theta_2 * np.square(X_train)\n",
    "\n",
    "# Sort the training data by X values for plotting purposes\n",
    "sorted_indices_train = X_train.flatten().argsort()\n",
    "X_train_sorted = X_train[sorted_indices_train]\n",
    "Y_pred_train_sorted = Y_pred_train[sorted_indices_train]\n",
    "\n",
    "# Plot the predicted values of Y against the training data\n",
    "plt.plot(X_train_sorted, Y_pred_train_sorted, color='green', label='Predicted Values')\n",
    "\n",
    "# Set the labels and title of the plot\n",
    "plt.xlabel('X')\n",
    "plt.ylabel('Y')\n",
    "plt.title('Quadratic Model for the Training Data')\n",
    "plt.legend()\n",
    "\n",
    "# Display the plot\n",
    "plt.show()\n",
    "\n",
    "# Calculate the predicted values of Y for the test data\n",
    "Y_pred_test = theta_0 + theta_1 * X_test + theta_2 * np.square(X_test)\n",
    "\n",
    "# Sort the test data by X values for plotting purposes\n",
    "sorted_indices_test = X_test.flatten().argsort()\n",
    "X_test_sorted = X_test[sorted_indices_test]\n",
    "Y_pred_test_sorted = Y_pred_test[sorted_indices_test]\n",
    "\n",
    "# Plot the test data\n",
    "plt.scatter(X_test, Y_test, color='blue', label='Test Data')\n",
    "\n",
    "# Plot the predicted values of Y against the test data\n",
    "plt.plot(X_test_sorted, Y_pred_test_sorted, color='green', label='Predicted Values')\n",
    "\n",
    "# Set the labels and title of the plot\n",
    "plt.xlabel('X')\n",
    "plt.ylabel('Y')\n",
    "plt.title('Quadratic Model for the Test Data')\n",
    "plt.legend()\n",
    "\n",
    "# Display the plot\n",
    "plt.show()\n",
    "\n",
    "\n",
    "\n"
   ]
  },
  {
   "cell_type": "markdown",
   "metadata": {},
   "source": [
    "### Expected Outputs for Quadratic Model\n",
    "\n",
    "![Training Data Plot](https://github.com/ahmad-14a/CS-F20-ML/blob/main/Regression-Assignment%202/Quad%20O.png?raw=true)\n",
    "\n",
    "![Test Data Plot](https://github.com/ahmad-14a/CS-F20-ML/blob/main/Regression-Assignment%202/Quad%20O%20tets.png?raw=true)\n"
   ]
  },
  {
   "cell_type": "markdown",
   "metadata": {},
   "source": [
    "## Now Fit The Cubic Model\n",
    "\n",
    "Cubic Model in matrix form\n",
    "\n",
    "![Model Formula of Quadratic](https://github.com/ahmad-14a/CS-F20-ML/blob/main/Regression-Assignment%202/Cubic%20Model.png?raw=true)\n",
    "\n",
    "\n",
    "\n",
    "NOTE :  Now you are required to compute values wihtout using foor loop on tarining data\n",
    "- HINT : Use numpy library for this purpose "
   ]
  },
  {
   "cell_type": "code",
   "execution_count": 16,
   "metadata": {},
   "outputs": [
    {
     "name": "stdout",
     "output_type": "stream",
     "text": [
      "\n",
      "\n",
      "Matrix A = \n",
      "\n",
      " [[  283.           444.95         932.7465      2199.781025  ]\n",
      " [  444.95         932.7465      2199.781025    5533.85257677]\n",
      " [  932.7465      2199.781025    5533.85257677 14501.33829628]\n",
      " [ 2199.781025    5533.85257677 14501.33829628 39086.48841058]]\n",
      "\n",
      "\n",
      "Matrix B = \n",
      "\n",
      " [[   1.39087   ]\n",
      " [-126.6414295 ]\n",
      " [-378.87568955]\n",
      " [-952.32410353]]\n"
     ]
    }
   ],
   "source": [
    "#Your code Here\n",
    "#For loop is not recommended in these cases, \n",
    "#use numpy functions to calculate the values of above variables in one line of code.\n",
    "#Such as x.shape for number of rows, sum() for sum of all elements in x\n",
    "#np.dot() or multiply suntion for square of x \n",
    "\n",
    "# Compute the values of sum(X_train), sum(X_train ** 2), sum(X_train ** 3), and sum(X_train ** 4)\n",
    "sum_Xtrain = np.sum(X_train)\n",
    "sum_Xtrain_squared = np.sum(X_train ** 2)\n",
    "sum_Xtrain_cubed = np.sum(X_train ** 3)\n",
    "sum_Xtrain_quart = np.sum(X_train ** 4)\n",
    "\n",
    "# Construct the matrix A\n",
    "A = np.array([[len(X_train), sum_Xtrain, sum_Xtrain_squared, sum_Xtrain_cubed],\n",
    "              [sum_Xtrain, sum_Xtrain_squared, sum_Xtrain_cubed, sum_Xtrain_quart],\n",
    "              [sum_Xtrain_squared, sum_Xtrain_cubed, sum_Xtrain_quart, np.sum(X_train ** 5)],\n",
    "              [sum_Xtrain_cubed, sum_Xtrain_quart, np.sum(X_train ** 5), np.sum(X_train ** 6)]])\n",
    "\n",
    "# Construct the matrix B\n",
    "B = np.array([[sum_Ytrain],\n",
    "              [multiplyXYTrain],\n",
    "              [np.sum(np.square(X_train)*Y_train)],\n",
    "              [np.sum(np.power(X_train, 3) * Y_train)]])\n",
    "\n",
    "# Compute the values of theta_0, theta_1, theta_2, and theta_3\n",
    "theta_3, theta_2, theta_1, theta_0 = np.linalg.inv(A).dot(B).flatten()\n",
    "\n",
    "\n",
    "print(\"\\n\")\n",
    "print(\"Matrix A = \\n\\n\", A)\n",
    "print(\"\\n\")\n",
    "print(\"Matrix B = \\n\\n\", B)"
   ]
  },
  {
   "cell_type": "markdown",
   "metadata": {},
   "source": [
    "Expected Output\n",
    "\n",
    "![Cubic Model Matrixes](https://github.com/ahmad-14a/CS-F20-ML/blob/main/Regression-Assignment%202/Matrixs%20Cubic1.png?raw=true)"
   ]
  },
  {
   "cell_type": "markdown",
   "metadata": {},
   "source": [
    "#### Compute Valus Of Four Θ`s\n"
   ]
  },
  {
   "cell_type": "code",
   "execution_count": 17,
   "metadata": {},
   "outputs": [
    {
     "name": "stdout",
     "output_type": "stream",
     "text": [
      "Coefficients of the cubic model:\n"
     ]
    },
    {
     "ename": "NameError",
     "evalue": "name 'theta_cubic' is not defined",
     "output_type": "error",
     "traceback": [
      "\u001b[1;31m---------------------------------------------------------------------------\u001b[0m",
      "\u001b[1;31mNameError\u001b[0m                                 Traceback (most recent call last)",
      "\u001b[1;32m<ipython-input-17-e91243a7207d>\u001b[0m in \u001b[0;36m<module>\u001b[1;34m\u001b[0m\n\u001b[0;32m      5\u001b[0m \u001b[1;31m# print the coefficients of the cubic model\u001b[0m\u001b[1;33m\u001b[0m\u001b[1;33m\u001b[0m\u001b[1;33m\u001b[0m\u001b[0m\n\u001b[0;32m      6\u001b[0m \u001b[0mprint\u001b[0m\u001b[1;33m(\u001b[0m\u001b[1;34m\"Coefficients of the cubic model:\"\u001b[0m\u001b[1;33m)\u001b[0m\u001b[1;33m\u001b[0m\u001b[1;33m\u001b[0m\u001b[0m\n\u001b[1;32m----> 7\u001b[1;33m \u001b[0mtheta\u001b[0m \u001b[1;33m=\u001b[0m \u001b[0mnp\u001b[0m\u001b[1;33m.\u001b[0m\u001b[0marray\u001b[0m\u001b[1;33m(\u001b[0m\u001b[1;33m[\u001b[0m\u001b[1;33m[\u001b[0m\u001b[0mtheta_cubic\u001b[0m\u001b[1;33m[\u001b[0m\u001b[1;36m0\u001b[0m\u001b[1;33m]\u001b[0m\u001b[1;33m]\u001b[0m\u001b[1;33m,\u001b[0m\u001b[1;33m[\u001b[0m\u001b[0mtheta_cubic\u001b[0m\u001b[1;33m[\u001b[0m\u001b[1;36m1\u001b[0m\u001b[1;33m]\u001b[0m\u001b[1;33m]\u001b[0m\u001b[1;33m,\u001b[0m \u001b[1;33m[\u001b[0m\u001b[0mtheta_cubic\u001b[0m\u001b[1;33m[\u001b[0m\u001b[1;36m2\u001b[0m\u001b[1;33m]\u001b[0m\u001b[1;33m]\u001b[0m\u001b[1;33m,\u001b[0m \u001b[1;33m[\u001b[0m\u001b[0mtheta_cubic\u001b[0m\u001b[1;33m[\u001b[0m\u001b[1;36m3\u001b[0m\u001b[1;33m]\u001b[0m\u001b[1;33m]\u001b[0m\u001b[1;33m]\u001b[0m \u001b[1;33m)\u001b[0m\u001b[1;33m\u001b[0m\u001b[1;33m\u001b[0m\u001b[0m\n\u001b[0m\u001b[0;32m      8\u001b[0m \u001b[0mprint\u001b[0m\u001b[1;33m(\u001b[0m\u001b[1;34m\"Matrix X for the quaderatic model : \\n\"\u001b[0m\u001b[1;33m,\u001b[0m \u001b[0mtheta\u001b[0m\u001b[1;33m)\u001b[0m\u001b[1;33m\u001b[0m\u001b[1;33m\u001b[0m\u001b[0m\n",
      "\u001b[1;31mNameError\u001b[0m: name 'theta_cubic' is not defined"
     ]
    }
   ],
   "source": [
    "#Your code Here\n",
    "#Calculate the values of 0_node and 0_1 using Matrix Multiplication\n",
    "#Hint: Use X = A^-1 * B to calculate the values of 0_node , 0_1 ,0_2 and 0_3\n",
    "\n",
    "# print the coefficients of the cubic model\n",
    "print(\"Coefficients of the cubic model:\")\n",
    "theta = np.array([[theta_cubic[0]],[theta_cubic[1]], [theta_cubic[2]], [theta_cubic[3]]] )\n",
    "print(\"Matrix X for the quaderatic model : \\n\", theta)"
   ]
  },
  {
   "cell_type": "markdown",
   "metadata": {},
   "source": [
    "Expected Output\n",
    "\n",
    "![Cubic Model MAtrixes](https://github.com/ahmad-14a/CS-F20-ML/blob/main/Regression-Assignment%202/Matrixs%20Cubic.png?raw=true)\n"
   ]
  },
  {
   "cell_type": "markdown",
   "metadata": {},
   "source": [
    "### Run Predictions (Testing data)"
   ]
  },
  {
   "cell_type": "code",
   "execution_count": 18,
   "metadata": {},
   "outputs": [
    {
     "ename": "NameError",
     "evalue": "name 'theta_cubic' is not defined",
     "output_type": "error",
     "traceback": [
      "\u001b[1;31m---------------------------------------------------------------------------\u001b[0m",
      "\u001b[1;31mNameError\u001b[0m                                 Traceback (most recent call last)",
      "\u001b[1;32m<ipython-input-18-703b17679efe>\u001b[0m in \u001b[0;36m<module>\u001b[1;34m\u001b[0m\n\u001b[0;32m     12\u001b[0m \u001b[1;33m\u001b[0m\u001b[0m\n\u001b[0;32m     13\u001b[0m \u001b[1;31m# Calculate the predicted values of y for the test data\u001b[0m\u001b[1;33m\u001b[0m\u001b[1;33m\u001b[0m\u001b[1;33m\u001b[0m\u001b[0m\n\u001b[1;32m---> 14\u001b[1;33m \u001b[0mY_pred\u001b[0m \u001b[1;33m=\u001b[0m \u001b[0mnp\u001b[0m\u001b[1;33m.\u001b[0m\u001b[0mdot\u001b[0m\u001b[1;33m(\u001b[0m\u001b[0mX_test\u001b[0m\u001b[1;33m,\u001b[0m \u001b[0mtheta_cubic\u001b[0m\u001b[1;33m)\u001b[0m\u001b[1;33m\u001b[0m\u001b[1;33m\u001b[0m\u001b[0m\n\u001b[0m\u001b[0;32m     15\u001b[0m \u001b[1;33m\u001b[0m\u001b[0m\n\u001b[0;32m     16\u001b[0m \u001b[1;31m# Print the predicted values of y for the test data\u001b[0m\u001b[1;33m\u001b[0m\u001b[1;33m\u001b[0m\u001b[1;33m\u001b[0m\u001b[0m\n",
      "\u001b[1;31mNameError\u001b[0m: name 'theta_cubic' is not defined"
     ]
    }
   ],
   "source": [
    "# Your code Here\n",
    "# In order to calculate the pridicted values of y\n",
    "# Use the formula y = 0_node + 0_1 * x\n",
    "# _____DO NOT USE FOR LOOP_____\n",
    "# instead Convert the column of test_x into numpy a 2 dimensional matrix\n",
    "# then use matrix multiplication to calculate the predicted values of y\n",
    "# Convert the test_x column into a numpy 2-dimensional matrix\n",
    "X_test = np.array(testData['X']).reshape(-1, 1)\n",
    "\n",
    "# Add a column of ones to the matrix\n",
    "X_test = np.hstack((np.ones_like(X_test), X_test, np.square(X_test), np.power(X_test, 3)))\n",
    "\n",
    "# Calculate the predicted values of y for the test data\n",
    "Y_pred = np.dot(X_test, theta_cubic)\n",
    "\n",
    "# Print the predicted values of y for the test data\n",
    "print(\"Predicted values of y for the test data using the cubic model:\")\n",
    "print(Y_pred)\n"
   ]
  },
  {
   "cell_type": "markdown",
   "metadata": {},
   "source": [
    "### Mean Square Error"
   ]
  },
  {
   "cell_type": "code",
   "execution_count": 19,
   "metadata": {},
   "outputs": [
    {
     "ename": "NameError",
     "evalue": "name 'theta_cubic' is not defined",
     "output_type": "error",
     "traceback": [
      "\u001b[1;31m---------------------------------------------------------------------------\u001b[0m",
      "\u001b[1;31mNameError\u001b[0m                                 Traceback (most recent call last)",
      "\u001b[1;32m<ipython-input-19-8f289ddbe60f>\u001b[0m in \u001b[0;36m<module>\u001b[1;34m\u001b[0m\n\u001b[0;32m      2\u001b[0m \u001b[1;31m#Using cost function calculate the cost of the model\u001b[0m\u001b[1;33m\u001b[0m\u001b[1;33m\u001b[0m\u001b[1;33m\u001b[0m\u001b[0m\n\u001b[0;32m      3\u001b[0m \u001b[1;31m# Calculate the predicted values of y for the test data using the cubic model\u001b[0m\u001b[1;33m\u001b[0m\u001b[1;33m\u001b[0m\u001b[1;33m\u001b[0m\u001b[0m\n\u001b[1;32m----> 4\u001b[1;33m \u001b[0mY_pred_cubic\u001b[0m \u001b[1;33m=\u001b[0m \u001b[0mtheta_cubic\u001b[0m\u001b[1;33m[\u001b[0m\u001b[1;36m0\u001b[0m\u001b[1;33m]\u001b[0m \u001b[1;33m+\u001b[0m \u001b[0mtheta_cubic\u001b[0m\u001b[1;33m[\u001b[0m\u001b[1;36m1\u001b[0m\u001b[1;33m]\u001b[0m \u001b[1;33m*\u001b[0m \u001b[0mX_test\u001b[0m \u001b[1;33m+\u001b[0m \u001b[0mtheta_cubic\u001b[0m\u001b[1;33m[\u001b[0m\u001b[1;36m2\u001b[0m\u001b[1;33m]\u001b[0m \u001b[1;33m*\u001b[0m \u001b[0mnp\u001b[0m\u001b[1;33m.\u001b[0m\u001b[0msquare\u001b[0m\u001b[1;33m(\u001b[0m\u001b[0mX_test\u001b[0m\u001b[1;33m)\u001b[0m \u001b[1;33m+\u001b[0m \u001b[0mtheta_cubic\u001b[0m\u001b[1;33m[\u001b[0m\u001b[1;36m3\u001b[0m\u001b[1;33m]\u001b[0m \u001b[1;33m*\u001b[0m \u001b[0mnp\u001b[0m\u001b[1;33m.\u001b[0m\u001b[0mpower\u001b[0m\u001b[1;33m(\u001b[0m\u001b[0mX_test\u001b[0m\u001b[1;33m,\u001b[0m \u001b[1;36m3\u001b[0m\u001b[1;33m)\u001b[0m\u001b[1;33m\u001b[0m\u001b[1;33m\u001b[0m\u001b[0m\n\u001b[0m\u001b[0;32m      5\u001b[0m \u001b[1;33m\u001b[0m\u001b[0m\n\u001b[0;32m      6\u001b[0m \u001b[1;31m# Calculate the mean square error for the cubic model\u001b[0m\u001b[1;33m\u001b[0m\u001b[1;33m\u001b[0m\u001b[1;33m\u001b[0m\u001b[0m\n",
      "\u001b[1;31mNameError\u001b[0m: name 'theta_cubic' is not defined"
     ]
    }
   ],
   "source": [
    "#Your code Here\n",
    "#Using cost function calculate the cost of the model\n",
    "# Calculate the predicted values of y for the test data using the cubic model\n",
    "Y_pred_cubic = theta_cubic[0] + theta_cubic[1] * X_test + theta_cubic[2] * np.square(X_test) + theta_cubic[3] * np.power(X_test, 3)\n",
    "\n",
    "# Calculate the mean square error for the cubic model\n",
    "cost_cubic = np.mean(np.square(Y_pred_cubic - Y_test))\n",
    "\n",
    "print(\"Mean Square Error for CUBIC MODEL is:\", cost_cubic)"
   ]
  },
  {
   "cell_type": "markdown",
   "metadata": {},
   "source": [
    "Expected Output\n",
    "\n",
    "![MSE of Cubic](https://github.com/ahmad-14a/CS-F20-ML/blob/main/Regression-Assignment%202/MSE%20Cubic.png?raw=true\n",
    ")"
   ]
  },
  {
   "cell_type": "markdown",
   "metadata": {},
   "source": [
    "### Plot Data (Train and Test Data)"
   ]
  },
  {
   "cell_type": "code",
   "execution_count": 20,
   "metadata": {},
   "outputs": [
    {
     "ename": "NameError",
     "evalue": "name 'theta_cubic' is not defined",
     "output_type": "error",
     "traceback": [
      "\u001b[1;31m---------------------------------------------------------------------------\u001b[0m",
      "\u001b[1;31mNameError\u001b[0m                                 Traceback (most recent call last)",
      "\u001b[1;32m<ipython-input-20-64cad1033810>\u001b[0m in \u001b[0;36m<module>\u001b[1;34m\u001b[0m\n\u001b[0;32m      2\u001b[0m \u001b[1;31m#Plot the predicted values of y against the test_x\u001b[0m\u001b[1;33m\u001b[0m\u001b[1;33m\u001b[0m\u001b[1;33m\u001b[0m\u001b[0m\n\u001b[0;32m      3\u001b[0m \u001b[1;31m# Plot the training data\u001b[0m\u001b[1;33m\u001b[0m\u001b[1;33m\u001b[0m\u001b[1;33m\u001b[0m\u001b[0m\n\u001b[1;32m----> 4\u001b[1;33m \u001b[0mtheta_cubic\u001b[0m \u001b[1;33m=\u001b[0m \u001b[0mtheta_cubic\u001b[0m\u001b[1;33m.\u001b[0m\u001b[0mreshape\u001b[0m\u001b[1;33m(\u001b[0m\u001b[1;33m-\u001b[0m\u001b[1;36m1\u001b[0m\u001b[1;33m,\u001b[0m \u001b[1;36m1\u001b[0m\u001b[1;33m)\u001b[0m\u001b[1;33m\u001b[0m\u001b[1;33m\u001b[0m\u001b[0m\n\u001b[0m\u001b[0;32m      5\u001b[0m \u001b[0mplt\u001b[0m\u001b[1;33m.\u001b[0m\u001b[0mscatter\u001b[0m\u001b[1;33m(\u001b[0m\u001b[0mX_train\u001b[0m\u001b[1;33m,\u001b[0m \u001b[0mY_train\u001b[0m\u001b[1;33m,\u001b[0m \u001b[0mcolor\u001b[0m\u001b[1;33m=\u001b[0m\u001b[1;34m'blue'\u001b[0m\u001b[1;33m,\u001b[0m \u001b[0mlabel\u001b[0m\u001b[1;33m=\u001b[0m\u001b[1;34m'Training Data'\u001b[0m\u001b[1;33m)\u001b[0m\u001b[1;33m\u001b[0m\u001b[1;33m\u001b[0m\u001b[0m\n\u001b[0;32m      6\u001b[0m \u001b[1;33m\u001b[0m\u001b[0m\n",
      "\u001b[1;31mNameError\u001b[0m: name 'theta_cubic' is not defined"
     ]
    }
   ],
   "source": [
    "#Your code Here\n",
    "#Plot the predicted values of y against the test_x\n",
    "# Plot the training data\n",
    "theta_cubic = theta_cubic.reshape(-1, 1)\n",
    "plt.scatter(X_train, Y_train, color='blue', label='Training Data')\n",
    "\n",
    "# Plot the predicted values of y against the train_x\n",
    "Y_pred_train = theta_cubic[0][0] + theta_cubic[1][0] * X_train + theta_cubic[2][0] * np.square(X_train) + theta_cubic[3][0] * np.power(X_train, 3)\n",
    "plt.plot(X_train, Y_pred_train, color='green', label='Predicted Values')\n",
    "\n",
    "# Set the labels and title of the plot\n",
    "plt.xlabel('X')\n",
    "plt.ylabel('Y')\n",
    "plt.title('Cubic Model for the train data')\n",
    "plt.legend()\n",
    "\n",
    "# Display the plot\n",
    "plt.show()\n",
    "\n",
    "# Calculate the predicted values of y for the test data using the cubic model\n",
    "Y_pred_test = theta_cubic[0][0] + theta_cubic[1][0] * X_test + theta_cubic[2][0] * np.square(X_test) + theta_cubic[3][0] * np.power(X_test, 3)\n",
    "\n",
    "# Plot the test data\n",
    "plt.scatter(X_test, Y_test, color='blue', label='Test Data')\n",
    "\n",
    "# Plot the predicted values of y against the test_x\n",
    "plt.plot(X_test, Y_pred_test, color='green', label='Predicted Values')\n",
    "\n",
    "# Set the labels and title of the plot\n",
    "plt.xlabel('X')\n",
    "plt.ylabel('Y')\n",
    "plt.title('Cubic Model for the test data')\n",
    "plt.legend()\n",
    "\n",
    "# Display the plot\n",
    "plt.show()"
   ]
  },
  {
   "cell_type": "markdown",
   "metadata": {},
   "source": [
    "### Expected Outputs for Cubic Model\n",
    "\n",
    "![Training Data Plot](https://github.com/ahmad-14a/CS-F20-ML/blob/main/Regression-Assignment%202/Cubic%20O.png?raw=true)\n",
    "\n",
    "![Test Data Plot](https://github.com/ahmad-14a/CS-F20-ML/blob/main/Regression-Assignment%202/Cubic%20O%20test.png?raw=true)\n"
   ]
  },
  {
   "cell_type": "markdown",
   "metadata": {},
   "source": [
    "### Now You Are Required To Fit Your 4 , 5 and 6 degree Models Step By Step As You Did Before"
   ]
  },
  {
   "cell_type": "markdown",
   "metadata": {},
   "source": [
    "## Now Fit The 4 degree Model"
   ]
  },
  {
   "cell_type": "code",
   "execution_count": 21,
   "metadata": {},
   "outputs": [
    {
     "name": "stdout",
     "output_type": "stream",
     "text": [
      "\n",
      "\n",
      "Matrix A = \n",
      "\n",
      " [[2.83000000e+02 4.44950000e+02 9.32746500e+02 2.19978103e+03\n",
      "  5.53385258e+03]\n",
      " [4.44950000e+02 9.32746500e+02 2.19978103e+03 5.53385258e+03\n",
      "  1.45013383e+04]\n",
      " [9.32746500e+02 2.19978103e+03 5.53385258e+03 1.45013383e+04\n",
      "  3.90864884e+04]\n",
      " [2.19978103e+03 5.53385258e+03 1.45013383e+04 3.90864884e+04\n",
      "  1.07548336e+05]\n",
      " [5.53385258e+03 1.45013383e+04 3.90864884e+04 1.07548336e+05\n",
      "  3.00624107e+05]]\n",
      "\n",
      "\n",
      "Matrix B = \n",
      "\n",
      " [[ 1.39087000e+00]\n",
      " [-1.26641430e+02]\n",
      " [-3.78875690e+02]\n",
      " [-9.52324104e+02]\n",
      " [-2.30897053e+03]]\n"
     ]
    }
   ],
   "source": [
    "#Your code Here\n",
    "# Generate additional features for X_train\n",
    "\n",
    "# Calculate the values of A and B matrix\n",
    "sum_Xtrain = np.sum(X_train)\n",
    "sum_Ytrain = np.sum(Y_train)\n",
    "multiplyXYTrain = np.sum(np.multiply(X_train, Y_train))\n",
    "\n",
    "A = np.array([[len(X_train), sum_Xtrain, np.sum(X_train ** 2), np.sum(X_train ** 3), np.sum(X_train ** 4)],\n",
    "              [sum_Xtrain, np.sum(X_train ** 2), np.sum(X_train ** 3), np.sum(X_train ** 4), np.sum(X_train ** 5)],\n",
    "              [np.sum(X_train ** 2), np.sum(X_train ** 3), np.sum(X_train ** 4), np.sum(X_train ** 5), np.sum(X_train ** 6)],\n",
    "              [np.sum(X_train ** 3), np.sum(X_train ** 4), np.sum(X_train ** 5), np.sum(X_train ** 6), np.sum(X_train ** 7)],\n",
    "              [np.sum(X_train ** 4), np.sum(X_train ** 5), np.sum(X_train ** 6), np.sum(X_train ** 7), np.sum(X_train ** 8)]])\n",
    "\n",
    "B = np.array([[sum_Ytrain], [multiplyXYTrain], [np.sum(np.square(X_train)*Y_train)],\n",
    "              [np.sum(np.power(X_train, 3)*Y_train)], [np.sum(np.power(X_train, 4)*Y_train)]])\n",
    "\n",
    "# Compute the values of theta_0, theta_1, theta_2, theta_3, and theta_4\n",
    "theta_4, theta_3, theta_2, theta_1, theta_0 = np.linalg.inv(A).dot(B).flatten()\n",
    "print(\"\\n\")\n",
    "print(\"Matrix A = \\n\\n\", A)\n",
    "print(\"\\n\")\n",
    "print(\"Matrix B = \\n\\n\", B)\n",
    "\n",
    "\n",
    "\n",
    "\n",
    "\n",
    "\n",
    "\n",
    "\n",
    "\n",
    "\n",
    "\n",
    "\n",
    "\n",
    "\n",
    "\n",
    "\n",
    "\n",
    "\n",
    "\n",
    "\n",
    "\n",
    "\n",
    "\n",
    "\n",
    "\n",
    "\n",
    "\n"
   ]
  },
  {
   "cell_type": "code",
   "execution_count": 22,
   "metadata": {},
   "outputs": [
    {
     "ename": "NameError",
     "evalue": "name 'theta_cubic' is not defined",
     "output_type": "error",
     "traceback": [
      "\u001b[1;31m---------------------------------------------------------------------------\u001b[0m",
      "\u001b[1;31mNameError\u001b[0m                                 Traceback (most recent call last)",
      "\u001b[1;32m<ipython-input-22-2de94fc4cc62>\u001b[0m in \u001b[0;36m<module>\u001b[1;34m\u001b[0m\n\u001b[0;32m      2\u001b[0m \u001b[0mthet_4\u001b[0m\u001b[1;33m,\u001b[0m\u001b[0mtheta_3\u001b[0m\u001b[1;33m,\u001b[0m \u001b[0mtheta_2\u001b[0m\u001b[1;33m,\u001b[0m \u001b[0mtheta_1\u001b[0m\u001b[1;33m,\u001b[0m \u001b[0mtheta_0\u001b[0m \u001b[1;33m=\u001b[0m \u001b[0mnp\u001b[0m\u001b[1;33m.\u001b[0m\u001b[0mlinalg\u001b[0m\u001b[1;33m.\u001b[0m\u001b[0minv\u001b[0m\u001b[1;33m(\u001b[0m\u001b[0mA\u001b[0m\u001b[1;33m)\u001b[0m\u001b[1;33m.\u001b[0m\u001b[0mdot\u001b[0m\u001b[1;33m(\u001b[0m\u001b[0mB\u001b[0m\u001b[1;33m)\u001b[0m\u001b[1;33m.\u001b[0m\u001b[0mflatten\u001b[0m\u001b[1;33m(\u001b[0m\u001b[1;33m)\u001b[0m\u001b[1;33m\u001b[0m\u001b[1;33m\u001b[0m\u001b[0m\n\u001b[0;32m      3\u001b[0m \u001b[1;33m\u001b[0m\u001b[0m\n\u001b[1;32m----> 4\u001b[1;33m \u001b[0mtheta\u001b[0m \u001b[1;33m=\u001b[0m \u001b[0mnp\u001b[0m\u001b[1;33m.\u001b[0m\u001b[0marray\u001b[0m\u001b[1;33m(\u001b[0m\u001b[1;33m[\u001b[0m\u001b[1;33m[\u001b[0m\u001b[0mtheta_cubic\u001b[0m\u001b[1;33m[\u001b[0m\u001b[1;36m0\u001b[0m\u001b[1;33m]\u001b[0m\u001b[1;33m]\u001b[0m\u001b[1;33m,\u001b[0m\u001b[1;33m[\u001b[0m\u001b[0mtheta_cubic\u001b[0m\u001b[1;33m[\u001b[0m\u001b[1;36m1\u001b[0m\u001b[1;33m]\u001b[0m\u001b[1;33m]\u001b[0m\u001b[1;33m,\u001b[0m \u001b[1;33m[\u001b[0m\u001b[0mtheta_cubic\u001b[0m\u001b[1;33m[\u001b[0m\u001b[1;36m2\u001b[0m\u001b[1;33m]\u001b[0m\u001b[1;33m]\u001b[0m\u001b[1;33m,\u001b[0m \u001b[1;33m[\u001b[0m\u001b[0mtheta_cubic\u001b[0m\u001b[1;33m[\u001b[0m\u001b[1;36m3\u001b[0m\u001b[1;33m]\u001b[0m\u001b[1;33m]\u001b[0m\u001b[1;33m]\u001b[0m \u001b[1;33m)\u001b[0m\u001b[1;33m\u001b[0m\u001b[1;33m\u001b[0m\u001b[0m\n\u001b[0m\u001b[0;32m      5\u001b[0m \u001b[0mprint\u001b[0m\u001b[1;33m(\u001b[0m\u001b[1;34m\"Matrix X for the quaderatic model : \\n\"\u001b[0m\u001b[1;33m,\u001b[0m \u001b[0mtheta\u001b[0m\u001b[1;33m)\u001b[0m\u001b[1;33m\u001b[0m\u001b[1;33m\u001b[0m\u001b[0m\n",
      "\u001b[1;31mNameError\u001b[0m: name 'theta_cubic' is not defined"
     ]
    }
   ],
   "source": [
    "# Compute the values of theta_0, theta_1, theta_2, and theta_3, theta_4\n",
    "thet_4,theta_3, theta_2, theta_1, theta_0 = np.linalg.inv(A).dot(B).flatten()\n",
    "\n",
    "theta = np.array([[theta_cubic[0]],[theta_cubic[1]], [theta_cubic[2]], [theta_cubic[3]]] )\n",
    "print(\"Matrix X for the quaderatic model : \\n\", theta)\n"
   ]
  },
  {
   "cell_type": "code",
   "execution_count": 23,
   "metadata": {},
   "outputs": [
    {
     "name": "stdout",
     "output_type": "stream",
     "text": [
      "Predicted values of y for the test data using the degree 4 model:\n",
      "[[-1.56329156e-01]\n",
      " [-2.72363676e-02]\n",
      " [ 1.78421167e-02]\n",
      " [ 9.43046453e-03]\n",
      " [-2.29261034e-02]\n",
      " [-5.06613136e-02]\n",
      " [-4.61878403e-02]\n",
      " [ 1.71026952e-02]\n",
      " [ 1.64839724e-01]\n",
      " [ 4.21673730e-01]\n",
      " [ 8.11276250e-01]\n",
      " [ 1.35633987e+00]\n",
      " [ 2.07857824e+00]\n",
      " [ 2.99872605e+00]\n",
      " [ 4.13653904e+00]\n",
      " [ 5.51079401e+00]\n",
      " [ 7.13928883e+00]\n",
      " [ 9.03884238e+00]\n",
      " [ 1.12252946e+01]\n",
      " [ 1.37135066e+01]\n",
      " [ 1.65173603e+01]\n",
      " [ 1.96497590e+01]\n",
      " [ 2.31226266e+01]\n",
      " [ 2.69469086e+01]\n",
      " [ 3.11325711e+01]\n",
      " [ 3.56886015e+01]\n",
      " [ 4.06230081e+01]\n",
      " [ 4.59428204e+01]\n",
      " [ 5.16540889e+01]\n",
      " [ 5.77618851e+01]\n",
      " [ 6.42703015e+01]\n",
      " [ 7.11824519e+01]]\n"
     ]
    }
   ],
   "source": [
    "X_test = np.array(testData['X']).reshape(-1, 1)\n",
    "\n",
    "# Add a column of ones to the matrix\n",
    "X_test = np.hstack((np.ones_like(X_test), X_test, np.square(X_test), np.power(X_test, 3), np.power(X_test, 4)))\n",
    "\n",
    "# Calculate the predicted values of y for the test data\n",
    "Y_pred = np.dot(X_test, np.array([[theta_0],[theta_1],[theta_2],[theta_3],[theta_4]]))\n",
    "\n",
    "# Print the predicted values of y for the test data\n",
    "print(\"Predicted values of y for the test data using the degree 4 model:\")\n",
    "print(Y_pred)\n",
    "\n",
    "\n",
    "\n",
    "\n",
    "\n"
   ]
  },
  {
   "cell_type": "code",
   "execution_count": 24,
   "metadata": {},
   "outputs": [
    {
     "ename": "IndexError",
     "evalue": "invalid index to scalar variable.",
     "output_type": "error",
     "traceback": [
      "\u001b[1;31m---------------------------------------------------------------------------\u001b[0m",
      "\u001b[1;31mIndexError\u001b[0m                                Traceback (most recent call last)",
      "\u001b[1;32m<ipython-input-24-1eed5a314d29>\u001b[0m in \u001b[0;36m<module>\u001b[1;34m\u001b[0m\n\u001b[0;32m      5\u001b[0m     \u001b[0mY_pred_train\u001b[0m \u001b[1;33m=\u001b[0m \u001b[0mtheta_4\u001b[0m\u001b[1;33m[\u001b[0m\u001b[1;36m0\u001b[0m\u001b[1;33m]\u001b[0m\u001b[1;33m[\u001b[0m\u001b[1;36m0\u001b[0m\u001b[1;33m]\u001b[0m \u001b[1;33m+\u001b[0m \u001b[0mtheta_4\u001b[0m\u001b[1;33m[\u001b[0m\u001b[1;36m1\u001b[0m\u001b[1;33m]\u001b[0m\u001b[1;33m[\u001b[0m\u001b[1;36m0\u001b[0m\u001b[1;33m]\u001b[0m \u001b[1;33m*\u001b[0m \u001b[0mX_train\u001b[0m \u001b[1;33m+\u001b[0m \u001b[0mtheta_4\u001b[0m\u001b[1;33m[\u001b[0m\u001b[1;36m2\u001b[0m\u001b[1;33m]\u001b[0m\u001b[1;33m[\u001b[0m\u001b[1;36m0\u001b[0m\u001b[1;33m]\u001b[0m \u001b[1;33m*\u001b[0m \u001b[0mnp\u001b[0m\u001b[1;33m.\u001b[0m\u001b[0msquare\u001b[0m\u001b[1;33m(\u001b[0m\u001b[0mX_train\u001b[0m\u001b[1;33m)\u001b[0m \u001b[1;33m+\u001b[0m \u001b[0mtheta_4\u001b[0m\u001b[1;33m[\u001b[0m\u001b[1;36m3\u001b[0m\u001b[1;33m]\u001b[0m\u001b[1;33m[\u001b[0m\u001b[1;36m0\u001b[0m\u001b[1;33m]\u001b[0m \u001b[1;33m*\u001b[0m \u001b[0mnp\u001b[0m\u001b[1;33m.\u001b[0m\u001b[0mpower\u001b[0m\u001b[1;33m(\u001b[0m\u001b[0mX_train\u001b[0m\u001b[1;33m,\u001b[0m \u001b[1;36m3\u001b[0m\u001b[1;33m)\u001b[0m \u001b[1;33m+\u001b[0m \u001b[0mtheta_4\u001b[0m\u001b[1;33m[\u001b[0m\u001b[1;36m4\u001b[0m\u001b[1;33m]\u001b[0m\u001b[1;33m[\u001b[0m\u001b[1;36m0\u001b[0m\u001b[1;33m]\u001b[0m \u001b[1;33m*\u001b[0m \u001b[0mnp\u001b[0m\u001b[1;33m.\u001b[0m\u001b[0mpower\u001b[0m\u001b[1;33m(\u001b[0m\u001b[0mX_train\u001b[0m\u001b[1;33m,\u001b[0m \u001b[1;36m4\u001b[0m\u001b[1;33m)\u001b[0m\u001b[1;33m\u001b[0m\u001b[1;33m\u001b[0m\u001b[0m\n\u001b[0;32m      6\u001b[0m \u001b[1;32melse\u001b[0m\u001b[1;33m:\u001b[0m\u001b[1;33m\u001b[0m\u001b[1;33m\u001b[0m\u001b[0m\n\u001b[1;32m----> 7\u001b[1;33m     \u001b[0mY_pred_train\u001b[0m \u001b[1;33m=\u001b[0m \u001b[0mtheta_4\u001b[0m\u001b[1;33m[\u001b[0m\u001b[1;36m0\u001b[0m\u001b[1;33m]\u001b[0m \u001b[1;33m+\u001b[0m \u001b[0mtheta_4\u001b[0m\u001b[1;33m[\u001b[0m\u001b[1;36m1\u001b[0m\u001b[1;33m]\u001b[0m \u001b[1;33m*\u001b[0m \u001b[0mX_train\u001b[0m \u001b[1;33m+\u001b[0m \u001b[0mtheta_4\u001b[0m\u001b[1;33m[\u001b[0m\u001b[1;36m2\u001b[0m\u001b[1;33m]\u001b[0m \u001b[1;33m*\u001b[0m \u001b[0mnp\u001b[0m\u001b[1;33m.\u001b[0m\u001b[0msquare\u001b[0m\u001b[1;33m(\u001b[0m\u001b[0mX_train\u001b[0m\u001b[1;33m)\u001b[0m \u001b[1;33m+\u001b[0m \u001b[0mtheta_4\u001b[0m\u001b[1;33m[\u001b[0m\u001b[1;36m3\u001b[0m\u001b[1;33m]\u001b[0m \u001b[1;33m*\u001b[0m \u001b[0mnp\u001b[0m\u001b[1;33m.\u001b[0m\u001b[0mpower\u001b[0m\u001b[1;33m(\u001b[0m\u001b[0mX_train\u001b[0m\u001b[1;33m,\u001b[0m \u001b[1;36m3\u001b[0m\u001b[1;33m)\u001b[0m \u001b[1;33m+\u001b[0m \u001b[0mtheta_4\u001b[0m\u001b[1;33m[\u001b[0m\u001b[1;36m4\u001b[0m\u001b[1;33m]\u001b[0m \u001b[1;33m*\u001b[0m \u001b[0mnp\u001b[0m\u001b[1;33m.\u001b[0m\u001b[0mpower\u001b[0m\u001b[1;33m(\u001b[0m\u001b[0mX_train\u001b[0m\u001b[1;33m,\u001b[0m \u001b[1;36m4\u001b[0m\u001b[1;33m)\u001b[0m\u001b[1;33m\u001b[0m\u001b[1;33m\u001b[0m\u001b[0m\n\u001b[0m\u001b[0;32m      8\u001b[0m \u001b[1;33m\u001b[0m\u001b[0m\n\u001b[0;32m      9\u001b[0m \u001b[0mplt\u001b[0m\u001b[1;33m.\u001b[0m\u001b[0mscatter\u001b[0m\u001b[1;33m(\u001b[0m\u001b[0mX_train\u001b[0m\u001b[1;33m,\u001b[0m \u001b[0mY_train\u001b[0m\u001b[1;33m,\u001b[0m \u001b[0mcolor\u001b[0m\u001b[1;33m=\u001b[0m\u001b[1;34m'red'\u001b[0m\u001b[1;33m,\u001b[0m \u001b[0mlabel\u001b[0m\u001b[1;33m=\u001b[0m\u001b[1;34m'Training Data'\u001b[0m\u001b[1;33m)\u001b[0m\u001b[1;33m\u001b[0m\u001b[1;33m\u001b[0m\u001b[0m\n",
      "\u001b[1;31mIndexError\u001b[0m: invalid index to scalar variable."
     ]
    },
    {
     "data": {
      "image/png": "[encoded data removed]",
      "text/plain": [
       "<Figure size 432x288 with 1 Axes>"
      ]
     },
     "metadata": {
      "needs_background": "light"
     },
     "output_type": "display_data"
    }
   ],
   "source": [
    "# Plot the training data\n",
    "plt.scatter(X_train, Y_train, color='blue', label='Training Data')\n",
    "# Plot the predicted values of y against the train_x\n",
    "if theta_4.ndim == 2:\n",
    "    Y_pred_train = theta_4[0][0] + theta_4[1][0] * X_train + theta_4[2][0] * np.square(X_train) + theta_4[3][0] * np.power(X_train, 3) + theta_4[4][0] * np.power(X_train, 4)\n",
    "else:\n",
    "    Y_pred_train = theta_4[0] + theta_4[1] * X_train + theta_4[2] * np.square(X_train) + theta_4[3] * np.power(X_train, 3) + theta_4[4] * np.power(X_train, 4)\n",
    "\n",
    "plt.scatter(X_train, Y_train, color='red', label='Training Data')\n",
    "plt.plot(X_train, Y_pred_train, color='green', label='Predicted Values')\n",
    "\n",
    "# Set the labels and title of the plot\n",
    "plt.xlabel('X')\n",
    "plt.ylabel('Y')\n",
    "plt.title('Degree 4 Model for the Training Data')\n",
    "plt.legend()\n",
    "\n",
    "# Display the plot\n",
    "plt.show()\n",
    "\n",
    "# Modify the indexing of theta_4 to ensure it is a 2D array\n",
    "if theta_4.ndim == 2:\n",
    "    Y_pred_test = theta_4[0][0] + theta_4[1][0] * X_test + theta_4[2][0] * np.square(X_test) + theta_4[3][0] * np.power(X_test, 3) + theta_4[4][0] * np.power(X_test, 4)\n",
    "else:\n",
    "    Y_pred_test = theta_4[0] + theta_4[1] * X_test + theta_4[2] * np.square(X_test) + theta_4[3] * np.power(X_test, 3) + theta_4[4] * np.power(X_test, 4)\n",
    "\n",
    "# Plot the test data\n",
    "plt.scatter(X_test, Y_test, color='blue', label='Test Data')\n",
    "plt.plot(X_test, Y_pred_test, color='green', label='Predicted Values')\n",
    "\n",
    "# Set the labels and title of the plot\n",
    "plt.xlabel('X')\n",
    "plt.ylabel('Y')\n",
    "plt.title('Degree 4 Model for the Test Data')\n",
    "plt.legend()\n",
    "\n",
    "# Display the plot\n",
    "plt.show()\n",
    "\n",
    "\n"
   ]
  },
  {
   "cell_type": "markdown",
   "metadata": {},
   "source": [
    "## Now Fit The 5 degree Model"
   ]
  },
  {
   "cell_type": "code",
   "execution_count": 25,
   "metadata": {},
   "outputs": [
    {
     "name": "stdout",
     "output_type": "stream",
     "text": [
      "\n",
      "\n",
      "Matrix A = \n",
      "\n",
      " [[2.83000000e+02 4.44950000e+02 9.32746500e+02 2.19978103e+03\n",
      "  5.53385258e+03 1.45013383e+04]\n",
      " [4.44950000e+02 9.32746500e+02 2.19978103e+03 5.53385258e+03\n",
      "  1.45013383e+04 3.90864884e+04]\n",
      " [9.32746500e+02 2.19978103e+03 5.53385258e+03 1.45013383e+04\n",
      "  3.90864884e+04 1.07548336e+05]\n",
      " [2.19978103e+03 5.53385258e+03 1.45013383e+04 3.90864884e+04\n",
      "  1.07548336e+05 3.00624107e+05]\n",
      " [5.53385258e+03 1.45013383e+04 3.90864884e+04 1.07548336e+05\n",
      "  3.00624107e+05 8.50829605e+05]\n",
      " [1.45013383e+04 3.90864884e+04 1.07548336e+05 3.00624107e+05\n",
      "  8.50829605e+05 2.43237118e+06]]\n",
      "\n",
      "\n",
      "Matrix B = \n",
      "\n",
      " [[ 1.39087000e+00]\n",
      " [-1.26641430e+02]\n",
      " [-3.78875690e+02]\n",
      " [-9.52324104e+02]\n",
      " [-2.30897053e+03]\n",
      " [-5.57500637e+03]]\n"
     ]
    }
   ],
   "source": [
    "#Your code Here\n",
    "\n",
    "A = np.array([[len(X_train), sum_Xtrain, np.sum(X_train ** 2), np.sum(X_train ** 3), np.sum(X_train ** 4), np.sum(X_train ** 5)],\n",
    "[sum_Xtrain, np.sum(X_train ** 2), np.sum(X_train ** 3), np.sum(X_train ** 4), np.sum(X_train ** 5), np.sum(X_train ** 6)],\n",
    "[np.sum(X_train ** 2), np.sum(X_train ** 3), np.sum(X_train ** 4), np.sum(X_train ** 5), np.sum(X_train ** 6), np.sum(X_train ** 7)],\n",
    "[np.sum(X_train ** 3), np.sum(X_train ** 4), np.sum(X_train ** 5), np.sum(X_train ** 6), np.sum(X_train ** 7), np.sum(X_train ** 8)],\n",
    "[np.sum(X_train ** 4), np.sum(X_train ** 5), np.sum(X_train ** 6), np.sum(X_train ** 7), np.sum(X_train ** 8), np.sum(X_train ** 9)],\n",
    "[np.sum(X_train ** 5), np.sum(X_train ** 6), np.sum(X_train ** 7), np.sum(X_train ** 8), np.sum(X_train ** 9), np.sum(X_train ** 10)]])\n",
    "\n",
    "B = np.array([[sum_Ytrain], [multiplyXYTrain], [np.sum(np.square(X_train)*Y_train)],\n",
    "[np.sum(np.power(X_train, 3)*Y_train)], [np.sum(np.power(X_train, 4)*Y_train)], [np.sum(np.power(X_train, 5)*Y_train)]])\n",
    "\n",
    "#Compute the values of theta_0, theta_1, theta_2, theta_3, theta_4, and theta_5\n",
    "theta_5, theta_4, theta_3, theta_2, theta_1, theta_0 = np.linalg.inv(A).dot(B).flatten()\n",
    "print(\"\\n\")\n",
    "print(\"Matrix A = \\n\\n\", A)\n",
    "print(\"\\n\")\n",
    "print(\"Matrix B = \\n\\n\", B)\n",
    "\n",
    "\n",
    "\n",
    "\n",
    "\n",
    "\n",
    "\n",
    "\n",
    "\n",
    "\n",
    "\n",
    "\n",
    "\n",
    "\n"
   ]
  },
  {
   "cell_type": "code",
   "execution_count": 26,
   "metadata": {},
   "outputs": [
    {
     "name": "stdout",
     "output_type": "stream",
     "text": [
      "Matrix X for the degree 5 model: \n",
      " [[-0.15135453]\n",
      " [ 2.89713972]\n",
      " [-0.36242335]\n",
      " [-2.76674175]\n",
      " [ 1.48161173]\n",
      " [-0.20822932]]\n"
     ]
    }
   ],
   "source": [
    "# Compute the values of theta_0, theta_1, theta_2, theta_3, and theta_4\n",
    "theta_5, theta_4, theta_3, theta_2, theta_1, theta_0 = np.linalg.inv(A).dot(B).flatten()\n",
    "\n",
    "theta = np.array([[theta_5], [theta_4], [theta_3], [theta_2], [theta_1], [theta_0]])\n",
    "print(\"Matrix X for the degree 5 model: \\n\", theta)"
   ]
  },
  {
   "cell_type": "code",
   "execution_count": 27,
   "metadata": {},
   "outputs": [
    {
     "name": "stdout",
     "output_type": "stream",
     "text": [
      "Predicted values of y for the test data using the degree 5 model:\n",
      "[[-2.08229324e-01]\n",
      " [-8.78097920e-02]\n",
      " [-2.08890455e-02]\n",
      " [ 5.61046171e-04]\n",
      " [-8.84150148e-03]\n",
      " [-2.80704139e-02]\n",
      " [-2.98727830e-02]\n",
      " [ 1.90493074e-02]\n",
      " [ 1.57857156e-01]\n",
      " [ 4.31393820e-01]\n",
      " [ 8.90002486e-01]\n",
      " [ 1.58934485e+00]\n",
      " [ 2.59021949e+00]\n",
      " [ 3.95838023e+00]\n",
      " [ 5.76435453e+00]\n",
      " [ 8.08326186e+00]\n",
      " [ 1.09946321e+01]\n",
      " [ 1.45822238e+01]\n",
      " [ 1.89338426e+01]\n",
      " [ 2.41411599e+01]\n",
      " [ 3.02995308e+01]\n",
      " [ 3.75078125e+01]\n",
      " [ 4.58681832e+01]\n",
      " [ 5.54859597e+01]\n",
      " [ 6.64694164e+01]\n",
      " [ 7.89296035e+01]\n",
      " [ 9.29801651e+01]\n",
      " [ 1.08737158e+02]\n",
      " [ 1.26318870e+02]\n",
      " [ 1.45845638e+02]\n",
      " [ 1.67439666e+02]\n",
      " [ 1.91224844e+02]]\n"
     ]
    }
   ],
   "source": [
    "X_test = np.array(testData['X']).reshape(-1, 1)\n",
    "\n",
    "#Add a column of ones to the matrix\n",
    "X_test = np.hstack((np.ones_like(X_test), X_test, np.square(X_test), np.power(X_test, 3), np.power(X_test, 4), np.power(X_test, 5)))\n",
    "\n",
    "#Calculate the predicted values of y for the test data\n",
    "Y_pred = np.dot(X_test, np.array([[theta_0], [theta_1], [theta_2], [theta_3], [theta_4], [theta_5]]))\n",
    "\n",
    "#Print the predicted values of y for the test data\n",
    "print(\"Predicted values of y for the test data using the degree 5 model:\")\n",
    "print(Y_pred)"
   ]
  },
  {
   "cell_type": "code",
   "execution_count": 28,
   "metadata": {},
   "outputs": [
    {
     "ename": "NameError",
     "evalue": "name 'poly5' is not defined",
     "output_type": "error",
     "traceback": [
      "\u001b[1;31m---------------------------------------------------------------------------\u001b[0m",
      "\u001b[1;31mNameError\u001b[0m                                 Traceback (most recent call last)",
      "\u001b[1;32m<ipython-input-28-b1bcf8729381>\u001b[0m in \u001b[0;36m<module>\u001b[1;34m\u001b[0m\n\u001b[0;32m      1\u001b[0m \u001b[0mX_train_reshaped\u001b[0m \u001b[1;33m=\u001b[0m \u001b[0mX_train\u001b[0m\u001b[1;33m.\u001b[0m\u001b[0mreshape\u001b[0m\u001b[1;33m(\u001b[0m\u001b[1;33m-\u001b[0m\u001b[1;36m1\u001b[0m\u001b[1;33m,\u001b[0m \u001b[1;36m1\u001b[0m\u001b[1;33m)\u001b[0m\u001b[1;33m\u001b[0m\u001b[1;33m\u001b[0m\u001b[0m\n\u001b[1;32m----> 2\u001b[1;33m \u001b[0mX_train_poly5\u001b[0m \u001b[1;33m=\u001b[0m \u001b[0mpoly5\u001b[0m\u001b[1;33m.\u001b[0m\u001b[0mfit_transform\u001b[0m\u001b[1;33m(\u001b[0m\u001b[0mX_train_reshaped\u001b[0m\u001b[1;33m)\u001b[0m\u001b[1;33m\u001b[0m\u001b[1;33m\u001b[0m\u001b[0m\n\u001b[0m\u001b[0;32m      3\u001b[0m \u001b[1;33m\u001b[0m\u001b[0m\n\u001b[0;32m      4\u001b[0m \u001b[1;33m\u001b[0m\u001b[0m\n\u001b[0;32m      5\u001b[0m \u001b[1;31m# Fit a degree 5 polynomial to the training data\u001b[0m\u001b[1;33m\u001b[0m\u001b[1;33m\u001b[0m\u001b[1;33m\u001b[0m\u001b[0m\n",
      "\u001b[1;31mNameError\u001b[0m: name 'poly5' is not defined"
     ]
    }
   ],
   "source": [
    "\n",
    "\n",
    "\n",
    "\n",
    "X_train_reshaped = X_train.reshape(-1, 1)\n",
    "X_train_poly5 = poly5.fit_transform(X_train_reshaped)\n",
    "\n",
    "\n",
    "# Fit a degree 5 polynomial to the training data\n",
    "poly5 = PolynomialFeatures(degree=5)\n",
    "X_train_poly5 = poly5.fit_transform(X_train)\n",
    "theta_poly5 = np.linalg.inv(X_train_poly5.T.dot(X_train_poly5)).dot(X_train_poly5.T).dot(Y_train)\n",
    "\n",
    "# Plot the predicted values of y against the train_x\n",
    "Y_pred_train_poly5 = np.zeros_like(Y_train)\n",
    "for i in range(theta_poly5.shape[0]):\n",
    "    Y_pred_train_poly5 += theta_poly5[i][0] * np.power(X_train, i)\n",
    "plt.scatter(X_train, Y_train, color='blue', label='Training Data')\n",
    "plt.plot(X_train, Y_pred_train_poly5, color='green', label='Predicted Values')\n",
    "plt.xlabel('X')\n",
    "plt.ylabel('Y')\n",
    "plt.title('Degree 5 Polynomial Model for the Train Data')\n",
    "plt.legend()\n",
    "plt.show()\n",
    "\n",
    "# Calculate the predicted values of y for the test data using the degree 5 polynomial model\n",
    "X_test_poly5 = poly5.fit_transform(X_test)\n",
    "Y_pred_test_poly5 = np.zeros_like(Y_test)\n",
    "for i in range(theta_poly5.shape[0]):\n",
    "    Y_pred_test_poly5 += theta_poly5[i][0] * np.power(X_test, i)\n",
    "\n",
    "# Plot the predicted values of y against the test_x\n",
    "plt.scatter(X_test, Y_test, color='blue', label='Test Data')\n",
    "plt.plot(X_test, Y_pred_test_poly5, color='green', label='Predicted Values')\n",
    "plt.xlabel('X')\n",
    "plt.ylabel('Y')\n",
    "plt.title('Degree 5 Polynomial Model for the Test Data')\n",
    "plt.legend()\n",
    "plt.show()\n"
   ]
  },
  {
   "cell_type": "markdown",
   "metadata": {},
   "source": [
    "## Now Fit The 6 degree Model"
   ]
  },
  {
   "cell_type": "code",
   "execution_count": 29,
   "metadata": {},
   "outputs": [
    {
     "name": "stdout",
     "output_type": "stream",
     "text": [
      "\n",
      "\n",
      "Matrix A = \n",
      "\n",
      " [[2.83000000e+02 4.44950000e+02 9.32746500e+02 2.19978103e+03\n",
      "  5.53385258e+03 1.45013383e+04 3.90864884e+04]\n",
      " [4.44950000e+02 9.32746500e+02 2.19978103e+03 5.53385258e+03\n",
      "  1.45013383e+04 3.90864884e+04 1.07548336e+05]\n",
      " [9.32746500e+02 2.19978103e+03 5.53385258e+03 1.45013383e+04\n",
      "  3.90864884e+04 1.07548336e+05 3.00624107e+05]\n",
      " [2.19978103e+03 5.53385258e+03 1.45013383e+04 3.90864884e+04\n",
      "  1.07548336e+05 3.00624107e+05 8.50829605e+05]\n",
      " [5.53385258e+03 1.45013383e+04 3.90864884e+04 1.07548336e+05\n",
      "  3.00624107e+05 8.50829605e+05 2.43237118e+06]\n",
      " [1.45013383e+04 3.90864884e+04 1.07548336e+05 3.00624107e+05\n",
      "  8.50829605e+05 2.43237118e+06 7.01172536e+06]\n",
      " [3.90864884e+04 1.07548336e+05 3.00624107e+05 8.50829605e+05\n",
      "  2.43237118e+06 7.01172536e+06 2.03540142e+07]]\n",
      "\n",
      "\n",
      "Matrix B = \n",
      "\n",
      " [[ 1.39087000e+00]\n",
      " [-1.26641430e+02]\n",
      " [-3.78875690e+02]\n",
      " [-9.52324104e+02]\n",
      " [-2.30897053e+03]\n",
      " [-5.57500637e+03]\n",
      " [-1.35290159e+04]]\n"
     ]
    }
   ],
   "source": [
    "#Your code Here\n",
    "# Generate additional features for X_train\n",
    "\n",
    "# Calculate the values of A and B matrix\n",
    "sum_Xtrain = np.sum(X_train)\n",
    "sum_Ytrain = np.sum(Y_train)\n",
    "multiplyXYTrain = np.sum(np.multiply(X_train, Y_train))\n",
    "\n",
    "A = np.array([[len(X_train), sum_Xtrain, np.sum(X_train ** 2), np.sum(X_train ** 3), np.sum(X_train ** 4), np.sum(X_train ** 5), np.sum(X_train ** 6)],\n",
    "              [sum_Xtrain, np.sum(X_train ** 2), np.sum(X_train ** 3), np.sum(X_train ** 4), np.sum(X_train ** 5), np.sum(X_train ** 6), np.sum(X_train ** 7)],\n",
    "              [np.sum(X_train ** 2), np.sum(X_train ** 3), np.sum(X_train ** 4), np.sum(X_train ** 5), np.sum(X_train ** 6), np.sum(X_train ** 7), np.sum(X_train ** 8)],\n",
    "              [np.sum(X_train ** 3), np.sum(X_train ** 4), np.sum(X_train ** 5), np.sum(X_train ** 6), np.sum(X_train ** 7), np.sum(X_train ** 8), np.sum(X_train ** 9)],\n",
    "              [np.sum(X_train ** 4), np.sum(X_train ** 5), np.sum(X_train ** 6), np.sum(X_train ** 7), np.sum(X_train ** 8), np.sum(X_train ** 9), np.sum(X_train ** 10)],\n",
    "              [np.sum(X_train ** 5), np.sum(X_train ** 6), np.sum(X_train ** 7), np.sum(X_train ** 8), np.sum(X_train ** 9), np.sum(X_train ** 10), np.sum(X_train ** 11)],\n",
    "              [np.sum(X_train ** 6), np.sum(X_train ** 7), np.sum(X_train ** 8), np.sum(X_train ** 9), np.sum(X_train ** 10), np.sum(X_train ** 11), np.sum(X_train ** 12)]])\n",
    "\n",
    "B = np.array([[sum_Ytrain], [multiplyXYTrain], [np.sum(np.square(X_train)*Y_train)],\n",
    "              [np.sum(np.power(X_train, 3)*Y_train)], [np.sum(np.power(X_train, 4)*Y_train)],\n",
    "              [np.sum(np.power(X_train, 5)*Y_train)], [np.sum(np.power(X_train, 6)*Y_train)]])\n",
    "\n",
    "# Compute the values of theta_0, theta_1, theta_2, theta_3, theta_4, theta_5 and theta_6\n",
    "theta_6, theta_5, theta_4, theta_3, theta_2, theta_1, theta_0 = np.linalg.inv(A).dot(B).flatten()\n",
    "print(\"\\n\")\n",
    "print(\"Matrix A = \\n\\n\", A)\n",
    "print(\"\\n\")\n",
    "print(\"Matrix B = \\n\\n\", B)\n",
    "\n",
    "\n",
    "\n",
    "\n",
    "\n",
    "\n",
    "\n",
    "\n"
   ]
  },
  {
   "cell_type": "code",
   "execution_count": 30,
   "metadata": {},
   "outputs": [
    {
     "name": "stdout",
     "output_type": "stream",
     "text": [
      "Matrix X for the degree 6 model: \n",
      " [[-0.12883598]\n",
      " [ 2.59932802]\n",
      " [ 0.58098511]\n",
      " [-3.96416677]\n",
      " [ 2.19455082]\n",
      " [-0.40752775]\n",
      " [ 0.02110818]]\n"
     ]
    }
   ],
   "source": [
    "\n",
    "theta = np.array([[theta_6], [theta_5], [theta_4], [theta_3], [theta_2], [theta_1], [theta_0]])\n",
    "print(\"Matrix X for the degree 6 model: \\n\", theta)"
   ]
  },
  {
   "cell_type": "code",
   "execution_count": 31,
   "metadata": {},
   "outputs": [
    {
     "name": "stdout",
     "output_type": "stream",
     "text": [
      "Predicted values of y for the test data using the degree 6 model:\n",
      "[[ 2.11081782e-02]\n",
      " [-1.57929285e-03]\n",
      " [-2.57555828e-03]\n",
      " [ 2.55348267e-04]\n",
      " [-3.51883946e-03]\n",
      " [-1.40113315e-02]\n",
      " [-1.82217545e-02]\n",
      " [ 1.26656128e-02]\n",
      " [ 1.25890843e-01]\n",
      " [ 3.89634603e-01]\n",
      " [ 8.95441629e-01]\n",
      " [ 1.76055145e+00]\n",
      " [ 3.13013633e+00]\n",
      " [ 5.17944649e+00]\n",
      " [ 8.11586251e+00]\n",
      " [ 1.21808550e+01]\n",
      " [ 1.76518516e+01]\n",
      " [ 2.48440108e+01]\n",
      " [ 3.41119039e+01]\n",
      " [ 4.58511031e+01]\n",
      " [ 6.04996776e+01]\n",
      " [ 7.85395967e+01]\n",
      " [ 1.00498040e+02]\n",
      " [ 1.26948615e+02]\n",
      " [ 1.58512482e+02]\n",
      " [ 1.95859387e+02]\n",
      " [ 2.39708599e+02]\n",
      " [ 2.90829758e+02]\n",
      " [ 3.50043628e+02]\n",
      " [ 4.18222759e+02]\n",
      " [ 4.96292055e+02]\n",
      " [ 5.85229248e+02]]\n"
     ]
    }
   ],
   "source": [
    "X_test = np.array(testData['X']).reshape(-1, 1)\n",
    "\n",
    "#Add a column of ones to the matrix\n",
    "X_test = np.hstack((np.ones_like(X_test), X_test, np.square(X_test), np.power(X_test, 3), np.power(X_test, 4), np.power(X_test, 5), np.power(X_test, 6)))\n",
    "\n",
    "#Calculate the predicted values of y for the test data\n",
    "Y_pred = np.dot(X_test, np.array([[theta_0], [theta_1], [theta_2], [theta_3], [theta_4], [theta_5], [theta_6]]))\n",
    "\n",
    "#Print the predicted values of y for the test data\n",
    "print(\"Predicted values of y for the test data using the degree 6 model:\")\n",
    "print(Y_pred)"
   ]
  },
  {
   "cell_type": "code",
   "execution_count": 32,
   "metadata": {},
   "outputs": [
    {
     "ename": "IndexError",
     "evalue": "index 1 is out of bounds for axis 0 with size 1",
     "output_type": "error",
     "traceback": [
      "\u001b[1;31m---------------------------------------------------------------------------\u001b[0m",
      "\u001b[1;31mIndexError\u001b[0m                                Traceback (most recent call last)",
      "\u001b[1;32m<ipython-input-32-8283710d0c46>\u001b[0m in \u001b[0;36m<module>\u001b[1;34m\u001b[0m\n\u001b[0;32m      3\u001b[0m \u001b[1;33m\u001b[0m\u001b[0m\n\u001b[0;32m      4\u001b[0m \u001b[1;31m#Plot the predicted values of y against the train_x\u001b[0m\u001b[1;33m\u001b[0m\u001b[1;33m\u001b[0m\u001b[1;33m\u001b[0m\u001b[0m\n\u001b[1;32m----> 5\u001b[1;33m \u001b[0mY_pred_train\u001b[0m \u001b[1;33m=\u001b[0m \u001b[0mtheta_6\u001b[0m\u001b[1;33m[\u001b[0m\u001b[1;36m0\u001b[0m\u001b[1;33m]\u001b[0m\u001b[1;33m[\u001b[0m\u001b[1;36m0\u001b[0m\u001b[1;33m]\u001b[0m \u001b[1;33m+\u001b[0m \u001b[0mtheta_6\u001b[0m\u001b[1;33m[\u001b[0m\u001b[1;36m1\u001b[0m\u001b[1;33m]\u001b[0m\u001b[1;33m[\u001b[0m\u001b[1;36m0\u001b[0m\u001b[1;33m]\u001b[0m \u001b[1;33m*\u001b[0m \u001b[0mX_train\u001b[0m \u001b[1;33m+\u001b[0m \u001b[0mtheta_6\u001b[0m\u001b[1;33m[\u001b[0m\u001b[1;36m2\u001b[0m\u001b[1;33m]\u001b[0m\u001b[1;33m[\u001b[0m\u001b[1;36m0\u001b[0m\u001b[1;33m]\u001b[0m \u001b[1;33m*\u001b[0m \u001b[0mnp\u001b[0m\u001b[1;33m.\u001b[0m\u001b[0msquare\u001b[0m\u001b[1;33m(\u001b[0m\u001b[0mX_train\u001b[0m\u001b[1;33m)\u001b[0m \u001b[1;33m+\u001b[0m \u001b[0mtheta_6\u001b[0m\u001b[1;33m[\u001b[0m\u001b[1;36m3\u001b[0m\u001b[1;33m]\u001b[0m\u001b[1;33m[\u001b[0m\u001b[1;36m0\u001b[0m\u001b[1;33m]\u001b[0m \u001b[1;33m*\u001b[0m \u001b[0mnp\u001b[0m\u001b[1;33m.\u001b[0m\u001b[0mpower\u001b[0m\u001b[1;33m(\u001b[0m\u001b[0mX_train\u001b[0m\u001b[1;33m,\u001b[0m \u001b[1;36m3\u001b[0m\u001b[1;33m)\u001b[0m \u001b[1;33m+\u001b[0m \u001b[0mtheta_6\u001b[0m\u001b[1;33m[\u001b[0m\u001b[1;36m4\u001b[0m\u001b[1;33m]\u001b[0m\u001b[1;33m[\u001b[0m\u001b[1;36m0\u001b[0m\u001b[1;33m]\u001b[0m \u001b[1;33m*\u001b[0m \u001b[0mnp\u001b[0m\u001b[1;33m.\u001b[0m\u001b[0mpower\u001b[0m\u001b[1;33m(\u001b[0m\u001b[0mX_train\u001b[0m\u001b[1;33m,\u001b[0m \u001b[1;36m4\u001b[0m\u001b[1;33m)\u001b[0m \u001b[1;33m+\u001b[0m \u001b[0mtheta_6\u001b[0m\u001b[1;33m[\u001b[0m\u001b[1;36m5\u001b[0m\u001b[1;33m]\u001b[0m\u001b[1;33m[\u001b[0m\u001b[1;36m0\u001b[0m\u001b[1;33m]\u001b[0m \u001b[1;33m*\u001b[0m \u001b[0mnp\u001b[0m\u001b[1;33m.\u001b[0m\u001b[0mpower\u001b[0m\u001b[1;33m(\u001b[0m\u001b[0mX_train\u001b[0m\u001b[1;33m,\u001b[0m \u001b[1;36m5\u001b[0m\u001b[1;33m)\u001b[0m \u001b[1;33m+\u001b[0m \u001b[0mtheta_6\u001b[0m\u001b[1;33m[\u001b[0m\u001b[1;36m6\u001b[0m\u001b[1;33m]\u001b[0m\u001b[1;33m[\u001b[0m\u001b[1;36m0\u001b[0m\u001b[1;33m]\u001b[0m \u001b[1;33m*\u001b[0m \u001b[0mnp\u001b[0m\u001b[1;33m.\u001b[0m\u001b[0mpower\u001b[0m\u001b[1;33m(\u001b[0m\u001b[0mX_train\u001b[0m\u001b[1;33m,\u001b[0m \u001b[1;36m6\u001b[0m\u001b[1;33m)\u001b[0m\u001b[1;33m\u001b[0m\u001b[1;33m\u001b[0m\u001b[0m\n\u001b[0m\u001b[0;32m      6\u001b[0m \u001b[0mplt\u001b[0m\u001b[1;33m.\u001b[0m\u001b[0mplot\u001b[0m\u001b[1;33m(\u001b[0m\u001b[0mX_train\u001b[0m\u001b[1;33m,\u001b[0m \u001b[0mY_pred_train\u001b[0m\u001b[1;33m,\u001b[0m \u001b[0mcolor\u001b[0m\u001b[1;33m=\u001b[0m\u001b[1;34m'green'\u001b[0m\u001b[1;33m,\u001b[0m \u001b[0mlabel\u001b[0m\u001b[1;33m=\u001b[0m\u001b[1;34m'Predicted Values'\u001b[0m\u001b[1;33m)\u001b[0m\u001b[1;33m\u001b[0m\u001b[1;33m\u001b[0m\u001b[0m\n\u001b[0;32m      7\u001b[0m \u001b[1;33m\u001b[0m\u001b[0m\n",
      "\u001b[1;31mIndexError\u001b[0m: index 1 is out of bounds for axis 0 with size 1"
     ]
    },
    {
     "data": {
      "image/png": "[encoded data removed]",
      "text/plain": [
       "<Figure size 432x288 with 1 Axes>"
      ]
     },
     "metadata": {
      "needs_background": "light"
     },
     "output_type": "display_data"
    }
   ],
   "source": [
    "theta_6 = theta_6.reshape(-1, 1)\n",
    "plt.scatter(X_train, Y_train, color='blue', label='Training Data')\n",
    "\n",
    "#Plot the predicted values of y against the train_x\n",
    "Y_pred_train = theta_6[0][0] + theta_6[1][0] * X_train + theta_6[2][0] * np.square(X_train) + theta_6[3][0] * np.power(X_train, 3) + theta_6[4][0] * np.power(X_train, 4) + theta_6[5][0] * np.power(X_train, 5) + theta_6[6][0] * np.power(X_train, 6)\n",
    "plt.plot(X_train, Y_pred_train, color='green', label='Predicted Values')\n",
    "\n",
    "#Set the labels and title of the plot\n",
    "plt.xlabel('X')\n",
    "plt.ylabel('Y')\n",
    "plt.title('Degree 6 Model for the train data')\n",
    "plt.legend()\n",
    "\n",
    "#Display the plot\n",
    "plt.show()\n",
    "\n",
    "#Calculate the predicted values of y for the test data using the degree 6 model\n",
    "Y_pred_test = theta_6[0][0] + theta_6[1][0] * X_test + theta_6[2][0] * np.square(X_test) + theta_6[3][0] * np.power(X_test, 3) + theta_6[4][0] * np.power(X_test, 4) + theta_6[5][0] * np.power(X_test, 5) + theta_6[6][0] * np.power(X_test, 6)\n",
    "\n",
    "#Plot the test data\n",
    "plt.scatter(X_test, Y_test, color='blue', label='Test Data')\n",
    "\n",
    "#Plot the predicted values of y against the test_x\n",
    "plt.plot(X_test, Y_pred_test, color='green', label='Predicted Values')\n",
    "\n",
    "#Set the labels and title of the plot\n",
    "plt.xlabel('X')\n",
    "plt.ylabel('Y')\n",
    "plt.title('Degree 6 Model for the test data')\n",
    "plt.legend()\n",
    "\n",
    "#Display the plot\n",
    "plt.show()"
   ]
  },
  {
   "cell_type": "markdown",
   "metadata": {},
   "source": [
    "### Comment on the results by comparing all of your models"
   ]
  },
  {
   "cell_type": "code",
   "execution_count": 33,
   "metadata": {},
   "outputs": [],
   "source": [
    "#Degree 6 Model is much better than previous ones in form of data expression and display"
   ]
  },
  {
   "cell_type": "markdown",
   "metadata": {},
   "source": []
  },
  {
   "cell_type": "code",
   "execution_count": null,
   "metadata": {},
   "outputs": [],
   "source": []
  }
 ],
 "metadata": {
  "kernelspec": {
   "display_name": "Python 3",
   "language": "python",
   "name": "python3"
  },
  "language_info": {
   "codemirror_mode": {
    "name": "ipython",
    "version": 3
   },
   "file_extension": ".py",
   "mimetype": "text/x-python",
   "name": "python",
   "nbconvert_exporter": "python",
   "pygments_lexer": "ipython3",
   "version": "3.8.5"
  }
 },
 "nbformat": 4,
 "nbformat_minor": 2
}
